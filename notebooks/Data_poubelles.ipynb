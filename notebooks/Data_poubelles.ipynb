{
 "cells": [
  {
   "cell_type": "code",
   "execution_count": 4,
   "id": "c100ae86",
   "metadata": {},
   "outputs": [],
   "source": [
    "import pandas as pd\n",
    "import numpy as np\n",
    "import geopandas\n",
    "import matplotlib.pyplot as plt\n",
    "import osmnx as ox\n",
    "import folium\n",
    "from folium import plugins\n"
   ]
  },
  {
   "cell_type": "code",
   "execution_count": 5,
   "id": "486b2ef7",
   "metadata": {},
   "outputs": [
    {
     "data": {
      "text/html": [
       "<div>\n",
       "<style scoped>\n",
       "    .dataframe tbody tr th:only-of-type {\n",
       "        vertical-align: middle;\n",
       "    }\n",
       "\n",
       "    .dataframe tbody tr th {\n",
       "        vertical-align: top;\n",
       "    }\n",
       "\n",
       "    .dataframe thead th {\n",
       "        text-align: right;\n",
       "    }\n",
       "</style>\n",
       "<table border=\"1\" class=\"dataframe\">\n",
       "  <thead>\n",
       "    <tr style=\"text-align: right;\">\n",
       "      <th></th>\n",
       "      <th>id</th>\n",
       "      <th>direccion</th>\n",
       "      <th>longitud</th>\n",
       "      <th>latitud</th>\n",
       "    </tr>\n",
       "  </thead>\n",
       "  <tbody>\n",
       "    <tr>\n",
       "      <th>0</th>\n",
       "      <td>1517391</td>\n",
       "      <td>Pza. Mercurio FTE. Junta Municpal De Barajas</td>\n",
       "      <td>-3.577963</td>\n",
       "      <td>40.474533</td>\n",
       "    </tr>\n",
       "    <tr>\n",
       "      <th>1</th>\n",
       "      <td>1521210</td>\n",
       "      <td>Manuel Machado CV Alcalde Luis Marichalar</td>\n",
       "      <td>-3.659399</td>\n",
       "      <td>40.411356</td>\n",
       "    </tr>\n",
       "    <tr>\n",
       "      <th>2</th>\n",
       "      <td>1522416</td>\n",
       "      <td>Pe�a Gorbea N�2</td>\n",
       "      <td>-3.668876</td>\n",
       "      <td>40.398386</td>\n",
       "    </tr>\n",
       "    <tr>\n",
       "      <th>3</th>\n",
       "      <td>1522423</td>\n",
       "      <td>Estacion Cercanias Asamblea De Madrid</td>\n",
       "      <td>-3.668185</td>\n",
       "      <td>40.381887</td>\n",
       "    </tr>\n",
       "    <tr>\n",
       "      <th>4</th>\n",
       "      <td>1522705</td>\n",
       "      <td>Jos� Del Hierro N� 52</td>\n",
       "      <td>-3.643924</td>\n",
       "      <td>40.440141</td>\n",
       "    </tr>\n",
       "    <tr>\n",
       "      <th>...</th>\n",
       "      <td>...</td>\n",
       "      <td>...</td>\n",
       "      <td>...</td>\n",
       "      <td>...</td>\n",
       "    </tr>\n",
       "    <tr>\n",
       "      <th>1295</th>\n",
       "      <td>1525738</td>\n",
       "      <td>Paseo Infanta Isabel Cv Alfonso XII</td>\n",
       "      <td>-3.689215</td>\n",
       "      <td>40.407540</td>\n",
       "    </tr>\n",
       "    <tr>\n",
       "      <th>1296</th>\n",
       "      <td>1525741</td>\n",
       "      <td>Alberique CV Amposta (Metro Simancas)</td>\n",
       "      <td>-3.622942</td>\n",
       "      <td>40.427567</td>\n",
       "    </tr>\n",
       "    <tr>\n",
       "      <th>1297</th>\n",
       "      <td>1525742</td>\n",
       "      <td>Jos� Del Hierro S/N (Parque El Calero)</td>\n",
       "      <td>-3.650824</td>\n",
       "      <td>40.436075</td>\n",
       "    </tr>\n",
       "    <tr>\n",
       "      <th>1298</th>\n",
       "      <td>1525744</td>\n",
       "      <td>Plaza Carlos Tr�as Bertr�n 4</td>\n",
       "      <td>-3.694246</td>\n",
       "      <td>40.451057</td>\n",
       "    </tr>\n",
       "    <tr>\n",
       "      <th>1299</th>\n",
       "      <td>1525743</td>\n",
       "      <td>Orense 79</td>\n",
       "      <td>-3.694392</td>\n",
       "      <td>40.459556</td>\n",
       "    </tr>\n",
       "  </tbody>\n",
       "</table>\n",
       "<p>1300 rows × 4 columns</p>\n",
       "</div>"
      ],
      "text/plain": [
       "           id                                     direccion  longitud  \\\n",
       "0     1517391  Pza. Mercurio FTE. Junta Municpal De Barajas -3.577963   \n",
       "1     1521210     Manuel Machado CV Alcalde Luis Marichalar -3.659399   \n",
       "2     1522416                               Pe�a Gorbea N�2 -3.668876   \n",
       "3     1522423         Estacion Cercanias Asamblea De Madrid -3.668185   \n",
       "4     1522705                         Jos� Del Hierro N� 52 -3.643924   \n",
       "...       ...                                           ...       ...   \n",
       "1295  1525738           Paseo Infanta Isabel Cv Alfonso XII -3.689215   \n",
       "1296  1525741         Alberique CV Amposta (Metro Simancas) -3.622942   \n",
       "1297  1525742        Jos� Del Hierro S/N (Parque El Calero) -3.650824   \n",
       "1298  1525744                  Plaza Carlos Tr�as Bertr�n 4 -3.694246   \n",
       "1299  1525743                                     Orense 79 -3.694392   \n",
       "\n",
       "        latitud  \n",
       "0     40.474533  \n",
       "1     40.411356  \n",
       "2     40.398386  \n",
       "3     40.381887  \n",
       "4     40.440141  \n",
       "...         ...  \n",
       "1295  40.407540  \n",
       "1296  40.427567  \n",
       "1297  40.436075  \n",
       "1298  40.451057  \n",
       "1299  40.459556  \n",
       "\n",
       "[1300 rows x 4 columns]"
      ]
     },
     "execution_count": 5,
     "metadata": {},
     "output_type": "execute_result"
    }
   ],
   "source": [
    "# Ajout du fichier \n",
    "file = 'Datas/PAP_MAD_DA1.csv'\n",
    "d1 = pd.read_csv(file, delimiter=';',\n",
    "                 usecols = ['id','direccion','longitud','latitud'])\n",
    "d1"
   ]
  },
  {
   "cell_type": "code",
   "execution_count": 6,
   "id": "f16ee84e",
   "metadata": {},
   "outputs": [
    {
     "data": {
      "text/html": [
       "<div>\n",
       "<style scoped>\n",
       "    .dataframe tbody tr th:only-of-type {\n",
       "        vertical-align: middle;\n",
       "    }\n",
       "\n",
       "    .dataframe tbody tr th {\n",
       "        vertical-align: top;\n",
       "    }\n",
       "\n",
       "    .dataframe thead th {\n",
       "        text-align: right;\n",
       "    }\n",
       "</style>\n",
       "<table border=\"1\" class=\"dataframe\">\n",
       "  <thead>\n",
       "    <tr style=\"text-align: right;\">\n",
       "      <th></th>\n",
       "      <th>latitud</th>\n",
       "      <th>longitud</th>\n",
       "    </tr>\n",
       "  </thead>\n",
       "  <tbody>\n",
       "    <tr>\n",
       "      <th>0</th>\n",
       "      <td>40.474533</td>\n",
       "      <td>-3.577963</td>\n",
       "    </tr>\n",
       "    <tr>\n",
       "      <th>1</th>\n",
       "      <td>40.411356</td>\n",
       "      <td>-3.659399</td>\n",
       "    </tr>\n",
       "    <tr>\n",
       "      <th>2</th>\n",
       "      <td>40.398386</td>\n",
       "      <td>-3.668876</td>\n",
       "    </tr>\n",
       "    <tr>\n",
       "      <th>3</th>\n",
       "      <td>40.381887</td>\n",
       "      <td>-3.668185</td>\n",
       "    </tr>\n",
       "    <tr>\n",
       "      <th>4</th>\n",
       "      <td>40.440141</td>\n",
       "      <td>-3.643924</td>\n",
       "    </tr>\n",
       "    <tr>\n",
       "      <th>...</th>\n",
       "      <td>...</td>\n",
       "      <td>...</td>\n",
       "    </tr>\n",
       "    <tr>\n",
       "      <th>1295</th>\n",
       "      <td>40.407540</td>\n",
       "      <td>-3.689215</td>\n",
       "    </tr>\n",
       "    <tr>\n",
       "      <th>1296</th>\n",
       "      <td>40.427567</td>\n",
       "      <td>-3.622942</td>\n",
       "    </tr>\n",
       "    <tr>\n",
       "      <th>1297</th>\n",
       "      <td>40.436075</td>\n",
       "      <td>-3.650824</td>\n",
       "    </tr>\n",
       "    <tr>\n",
       "      <th>1298</th>\n",
       "      <td>40.451057</td>\n",
       "      <td>-3.694246</td>\n",
       "    </tr>\n",
       "    <tr>\n",
       "      <th>1299</th>\n",
       "      <td>40.459556</td>\n",
       "      <td>-3.694392</td>\n",
       "    </tr>\n",
       "  </tbody>\n",
       "</table>\n",
       "<p>1300 rows × 2 columns</p>\n",
       "</div>"
      ],
      "text/plain": [
       "        latitud  longitud\n",
       "0     40.474533 -3.577963\n",
       "1     40.411356 -3.659399\n",
       "2     40.398386 -3.668876\n",
       "3     40.381887 -3.668185\n",
       "4     40.440141 -3.643924\n",
       "...         ...       ...\n",
       "1295  40.407540 -3.689215\n",
       "1296  40.427567 -3.622942\n",
       "1297  40.436075 -3.650824\n",
       "1298  40.451057 -3.694246\n",
       "1299  40.459556 -3.694392\n",
       "\n",
       "[1300 rows x 2 columns]"
      ]
     },
     "execution_count": 6,
     "metadata": {},
     "output_type": "execute_result"
    }
   ],
   "source": [
    "d1[['latitud','longitud']]"
   ]
  },
  {
   "cell_type": "code",
   "execution_count": 7,
   "id": "c2d0d892",
   "metadata": {},
   "outputs": [],
   "source": [
    "geoDataF = geopandas.GeoDataFrame(d1, geometry=geopandas.points_from_xy(d1.longitud, d1.latitud))"
   ]
  },
  {
   "cell_type": "code",
   "execution_count": 8,
   "id": "154c6a85",
   "metadata": {},
   "outputs": [
    {
     "name": "stdout",
     "output_type": "stream",
     "text": [
      "        id                                     direccion  longitud    latitud  \\\n",
      "0  1517391  Pza. Mercurio FTE. Junta Municpal De Barajas -3.577963  40.474533   \n",
      "1  1521210     Manuel Machado CV Alcalde Luis Marichalar -3.659399  40.411356   \n",
      "2  1522416                               Pe�a Gorbea N�2 -3.668876  40.398386   \n",
      "3  1522423         Estacion Cercanias Asamblea De Madrid -3.668185  40.381887   \n",
      "4  1522705                         Jos� Del Hierro N� 52 -3.643924  40.440141   \n",
      "\n",
      "                    geometry  \n",
      "0  POINT (-3.57796 40.47453)  \n",
      "1  POINT (-3.65940 40.41136)  \n",
      "2  POINT (-3.66888 40.39839)  \n",
      "3  POINT (-3.66818 40.38189)  \n",
      "4  POINT (-3.64392 40.44014)  \n"
     ]
    }
   ],
   "source": [
    "print(geoDataF.head())"
   ]
  },
  {
   "cell_type": "code",
   "execution_count": 9,
   "id": "74860d03",
   "metadata": {},
   "outputs": [
    {
     "data": {
      "image/png": "[encoded data removed]",
      "text/plain": [
       "<Figure size 432x288 with 1 Axes>"
      ]
     },
     "metadata": {
      "needs_background": "light"
     },
     "output_type": "display_data"
    }
   ],
   "source": [
    "city = ox.geocode_to_gdf('Madrid, Madrid')\n",
    "ax = ox.project_gdf(city).plot()\n",
    "_ = ax.axis('off')"
   ]
  },
  {
   "cell_type": "code",
   "execution_count": 10,
   "id": "48824d4a",
   "metadata": {},
   "outputs": [],
   "source": [
    "m = folium.Map([40.4181388, -3.6597183], zoom_start=12)\n",
    "pb = d1[['latitud','longitud']]\n",
    "#https://livecodestream.dev/post/how-to-plot-your-data-on-maps-using-python-and-folium/"
   ]
  },
  {
   "cell_type": "code",
   "execution_count": 11,
   "id": "ccd68e26",
   "metadata": {},
   "outputs": [
    {
     "data": {
      "text/html": [
       "<div>\n",
       "<style scoped>\n",
       "    .dataframe tbody tr th:only-of-type {\n",
       "        vertical-align: middle;\n",
       "    }\n",
       "\n",
       "    .dataframe tbody tr th {\n",
       "        vertical-align: top;\n",
       "    }\n",
       "\n",
       "    .dataframe thead th {\n",
       "        text-align: right;\n",
       "    }\n",
       "</style>\n",
       "<table border=\"1\" class=\"dataframe\">\n",
       "  <thead>\n",
       "    <tr style=\"text-align: right;\">\n",
       "      <th></th>\n",
       "      <th>latitud</th>\n",
       "      <th>longitud</th>\n",
       "    </tr>\n",
       "  </thead>\n",
       "  <tbody>\n",
       "    <tr>\n",
       "      <th>0</th>\n",
       "      <td>40.474533</td>\n",
       "      <td>-3.577963</td>\n",
       "    </tr>\n",
       "    <tr>\n",
       "      <th>1</th>\n",
       "      <td>40.411356</td>\n",
       "      <td>-3.659399</td>\n",
       "    </tr>\n",
       "    <tr>\n",
       "      <th>2</th>\n",
       "      <td>40.398386</td>\n",
       "      <td>-3.668876</td>\n",
       "    </tr>\n",
       "    <tr>\n",
       "      <th>3</th>\n",
       "      <td>40.381887</td>\n",
       "      <td>-3.668185</td>\n",
       "    </tr>\n",
       "    <tr>\n",
       "      <th>4</th>\n",
       "      <td>40.440141</td>\n",
       "      <td>-3.643924</td>\n",
       "    </tr>\n",
       "  </tbody>\n",
       "</table>\n",
       "</div>"
      ],
      "text/plain": [
       "     latitud  longitud\n",
       "0  40.474533 -3.577963\n",
       "1  40.411356 -3.659399\n",
       "2  40.398386 -3.668876\n",
       "3  40.381887 -3.668185\n",
       "4  40.440141 -3.643924"
      ]
     },
     "execution_count": 11,
     "metadata": {},
     "output_type": "execute_result"
    }
   ],
   "source": [
    "pb.head()"
   ]
  },
  {
   "cell_type": "code",
   "execution_count": 12,
   "id": "115c9217",
   "metadata": {},
   "outputs": [
    {
     "data": {
      "text/html": [
       "<div style=\"width:100%;\"><div style=\"position:relative;width:100%;height:0;padding-bottom:60%;\"><span style=\"color:#565656\">Make this Notebook Trusted to load map: File -> Trust Notebook</span><iframe src=\"about:blank\" style=\"position:absolute;width:100%;height:100%;left:0;top:0;border:none !important;\" data-html=%3C%21DOCTYPE%20html%3E%0A%3Chead%3E%20%20%20%20%0A%20%20%20%20%3Cmeta%20http-equiv%3D%22content-type%22%20content%3D%22text/html%3B%20charset%3DUTF-8%22%20/%3E%0A%20%20%20%20%0A%20%20%20%20%20%20%20%20%3Cscript%3E%0A%20%20%20%20%20%20%20%20%20%20%20%20L_NO_TOUCH%20%3D%20false%3B%0A%20%20%20%20%20%20%20%20%20%20%20%20L_DISABLE_3D%20%3D%20false%3B%0A%20%20%20%20%20%20%20%20%3C/script%3E%0A%20%20%20%20%0A%20%20%20%20%3Cstyle%3Ehtml%2C%20body%20%7Bwidth%3A%20100%25%3Bheight%3A%20100%25%3Bmargin%3A%200%3Bpadding%3A%200%3B%7D%3C/style%3E%0A%20%20%20%20%3Cstyle%3E%23map%20%7Bposition%3Aabsolute%3Btop%3A0%3Bbottom%3A0%3Bright%3A0%3Bleft%3A0%3B%7D%3C/style%3E%0A%20%20%20%20%3Cscript%20src%3D%22https%3A//cdn.jsdelivr.net/npm/leaflet%401.6.0/dist/leaflet.js%22%3E%3C/script%3E%0A%20%20%20%20%3Cscript%20src%3D%22https%3A//code.jquery.com/jquery-1.12.4.min.js%22%3E%3C/script%3E%0A%20%20%20%20%3Cscript%20src%3D%22https%3A//maxcdn.bootstrapcdn.com/bootstrap/3.2.0/js/bootstrap.min.js%22%3E%3C/script%3E%0A%20%20%20%20%3Cscript%20src%3D%22https%3A//cdnjs.cloudflare.com/ajax/libs/Leaflet.awesome-markers/2.0.2/leaflet.awesome-markers.js%22%3E%3C/script%3E%0A%20%20%20%20%3Clink%20rel%3D%22stylesheet%22%20href%3D%22https%3A//cdn.jsdelivr.net/npm/leaflet%401.6.0/dist/leaflet.css%22/%3E%0A%20%20%20%20%3Clink%20rel%3D%22stylesheet%22%20href%3D%22https%3A//maxcdn.bootstrapcdn.com/bootstrap/3.2.0/css/bootstrap.min.css%22/%3E%0A%20%20%20%20%3Clink%20rel%3D%22stylesheet%22%20href%3D%22https%3A//maxcdn.bootstrapcdn.com/bootstrap/3.2.0/css/bootstrap-theme.min.css%22/%3E%0A%20%20%20%20%3Clink%20rel%3D%22stylesheet%22%20href%3D%22https%3A//maxcdn.bootstrapcdn.com/font-awesome/4.6.3/css/font-awesome.min.css%22/%3E%0A%20%20%20%20%3Clink%20rel%3D%22stylesheet%22%20href%3D%22https%3A//cdnjs.cloudflare.com/ajax/libs/Leaflet.awesome-markers/2.0.2/leaflet.awesome-markers.css%22/%3E%0A%20%20%20%20%3Clink%20rel%3D%22stylesheet%22%20href%3D%22https%3A//cdn.jsdelivr.net/gh/python-visualization/folium/folium/templates/leaflet.awesome.rotate.min.css%22/%3E%0A%20%20%20%20%0A%20%20%20%20%20%20%20%20%20%20%20%20%3Cmeta%20name%3D%22viewport%22%20content%3D%22width%3Ddevice-width%2C%0A%20%20%20%20%20%20%20%20%20%20%20%20%20%20%20%20initial-scale%3D1.0%2C%20maximum-scale%3D1.0%2C%20user-scalable%3Dno%22%20/%3E%0A%20%20%20%20%20%20%20%20%20%20%20%20%3Cstyle%3E%0A%20%20%20%20%20%20%20%20%20%20%20%20%20%20%20%20%23map_5370f9ab63224bebb6b87470620bf4ac%20%7B%0A%20%20%20%20%20%20%20%20%20%20%20%20%20%20%20%20%20%20%20%20position%3A%20relative%3B%0A%20%20%20%20%20%20%20%20%20%20%20%20%20%20%20%20%20%20%20%20width%3A%20100.0%25%3B%0A%20%20%20%20%20%20%20%20%20%20%20%20%20%20%20%20%20%20%20%20height%3A%20100.0%25%3B%0A%20%20%20%20%20%20%20%20%20%20%20%20%20%20%20%20%20%20%20%20left%3A%200.0%25%3B%0A%20%20%20%20%20%20%20%20%20%20%20%20%20%20%20%20%20%20%20%20top%3A%200.0%25%3B%0A%20%20%20%20%20%20%20%20%20%20%20%20%20%20%20%20%7D%0A%20%20%20%20%20%20%20%20%20%20%20%20%3C/style%3E%0A%20%20%20%20%20%20%20%20%0A%20%20%20%20%3Cscript%20src%3D%22https%3A//cdn.jsdelivr.net/gh/python-visualization/folium%40master/folium/templates/leaflet_heat.min.js%22%3E%3C/script%3E%0A%3C/head%3E%0A%3Cbody%3E%20%20%20%20%0A%20%20%20%20%0A%20%20%20%20%20%20%20%20%20%20%20%20%3Cdiv%20class%3D%22folium-map%22%20id%3D%22map_5370f9ab63224bebb6b87470620bf4ac%22%20%3E%3C/div%3E%0A%20%20%20%20%20%20%20%20%0A%3C/body%3E%0A%3Cscript%3E%20%20%20%20%0A%20%20%20%20%0A%20%20%20%20%20%20%20%20%20%20%20%20var%20map_5370f9ab63224bebb6b87470620bf4ac%20%3D%20L.map%28%0A%20%20%20%20%20%20%20%20%20%20%20%20%20%20%20%20%22map_5370f9ab63224bebb6b87470620bf4ac%22%2C%0A%20%20%20%20%20%20%20%20%20%20%20%20%20%20%20%20%7B%0A%20%20%20%20%20%20%20%20%20%20%20%20%20%20%20%20%20%20%20%20center%3A%20%5B40.4181388%2C%20-3.6597183%5D%2C%0A%20%20%20%20%20%20%20%20%20%20%20%20%20%20%20%20%20%20%20%20crs%3A%20L.CRS.EPSG3857%2C%0A%20%20%20%20%20%20%20%20%20%20%20%20%20%20%20%20%20%20%20%20zoom%3A%2012%2C%0A%20%20%20%20%20%20%20%20%20%20%20%20%20%20%20%20%20%20%20%20zoomControl%3A%20true%2C%0A%20%20%20%20%20%20%20%20%20%20%20%20%20%20%20%20%20%20%20%20preferCanvas%3A%20false%2C%0A%20%20%20%20%20%20%20%20%20%20%20%20%20%20%20%20%7D%0A%20%20%20%20%20%20%20%20%20%20%20%20%29%3B%0A%0A%20%20%20%20%20%20%20%20%20%20%20%20%0A%0A%20%20%20%20%20%20%20%20%0A%20%20%20%20%0A%20%20%20%20%20%20%20%20%20%20%20%20var%20tile_layer_b1733d00ed344a7bbce6fdedada88ccf%20%3D%20L.tileLayer%28%0A%20%20%20%20%20%20%20%20%20%20%20%20%20%20%20%20%22https%3A//%7Bs%7D.tile.openstreetmap.org/%7Bz%7D/%7Bx%7D/%7By%7D.png%22%2C%0A%20%20%20%20%20%20%20%20%20%20%20%20%20%20%20%20%7B%22attribution%22%3A%20%22Data%20by%20%5Cu0026copy%3B%20%5Cu003ca%20href%3D%5C%22http%3A//openstreetmap.org%5C%22%5Cu003eOpenStreetMap%5Cu003c/a%5Cu003e%2C%20under%20%5Cu003ca%20href%3D%5C%22http%3A//www.openstreetmap.org/copyright%5C%22%5Cu003eODbL%5Cu003c/a%5Cu003e.%22%2C%20%22detectRetina%22%3A%20false%2C%20%22maxNativeZoom%22%3A%2018%2C%20%22maxZoom%22%3A%2018%2C%20%22minZoom%22%3A%200%2C%20%22noWrap%22%3A%20false%2C%20%22opacity%22%3A%201%2C%20%22subdomains%22%3A%20%22abc%22%2C%20%22tms%22%3A%20false%7D%0A%20%20%20%20%20%20%20%20%20%20%20%20%29.addTo%28map_5370f9ab63224bebb6b87470620bf4ac%29%3B%0A%20%20%20%20%20%20%20%20%0A%20%20%20%20%0A%20%20%20%20%20%20%20%20%20%20%20%20var%20heat_map_d4beb4751f114807b4caab1eefe6f909%20%3D%20L.heatLayer%28%0A%20%20%20%20%20%20%20%20%20%20%20%20%20%20%20%20%5B%5B40.4745326748698%2C%20-3.57796317595808%5D%2C%20%5B40.4113557824348%2C%20-3.65939877040543%5D%2C%20%5B40.398386107057%2C%20-3.66887580360043%5D%2C%20%5B40.3818872494024%2C%20-3.66818481961283%5D%2C%20%5B40.4401409362563%2C%20-3.64392377324389%5D%2C%20%5B40.4067884727658%2C%20-3.6469082689571%5D%2C%20%5B40.4377219407492%2C%20-3.63826355079394%5D%2C%20%5B40.4377268200259%2C%20-3.63824331938553%5D%2C%20%5B40.4262552029435%2C%20-3.65095779563912%5D%2C%20%5B40.4408021765445%2C%20-3.64289276294361%5D%2C%20%5B40.401426%2C%20-3.595912%5D%2C%20%5B40.34642989%2C%20-3.709155138%5D%2C%20%5B40.4055559899069%2C%20-3.5994917302179%5D%2C%20%5B40.4176270530662%2C%20-3.62309602206998%5D%2C%20%5B40.4228480228234%2C%20-3.65618501745653%5D%2C%20%5B40.4040364387842%2C%20-3.60452159246016%5D%2C%20%5B40.4335349903157%2C%20-3.6570629208609%5D%2C%20%5B40.4062243409903%2C%20-3.64634004005014%5D%2C%20%5B40.4551650822182%2C%20-3.58722514990713%5D%2C%20%5B40.4055204736461%2C%20-3.6083452242415%5D%2C%20%5B40.4262409799852%2C%20-3.6509436229678%5D%2C%20%5B40.4401445899459%2C%20-3.6439097684844%5D%2C%20%5B40.4044832901686%2C%20-3.60885348780109%5D%2C%20%5B40.4402083463916%2C%20-3.64429644965743%5D%2C%20%5B40.4408141980418%2C%20-3.64287415896386%5D%2C%20%5B40.3902181569538%2C%20-3.64543874048201%5D%2C%20%5B40.4067942923838%2C%20-3.64693327049714%5D%2C%20%5B40.408918104979%2C%20-3.60316528125706%5D%2C%20%5B40.4296202135061%2C%20-3.64170270732891%5D%2C%20%5B40.4176401119883%2C%20-3.62310549800046%5D%2C%20%5B40.4296165687567%2C%20-3.64171514922409%5D%2C%20%5B40.4651602440617%2C%20-3.59281879862065%5D%2C%20%5B40.4039338683295%2C%20-3.60407947000977%5D%2C%20%5B40.4335217835916%2C%20-3.6570799489743%5D%2C%20%5B40.4626301208749%2C%20-3.61389560875373%5D%2C%20%5B40.4401987344104%2C%20-3.64431039634441%5D%2C%20%5B40.423193223939%2C%20-3.71038317254747%5D%2C%20%5B40.419087659414%2C%20-3.69581469960621%5D%2C%20%5B40.4201063289955%2C%20-3.70171086319735%5D%2C%20%5B40.4200919286318%2C%20-3.70388373243074%5D%2C%20%5B40.4162015462277%2C%20-3.71377851629016%5D%2C%20%5B40.4063349738407%2C%20-3.68519830697748%5D%2C%20%5B40.4243310693949%2C%20-3.68846425727559%5D%2C%20%5B40.416790472918%2C%20-3.70043573209159%5D%2C%20%5B40.4069290766972%2C%20-3.67062426151177%5D%2C%20%5B40.4418771591363%2C%20-3.67772826379154%5D%2C%20%5B40.432634050993%2C%20-3.67933286125631%5D%2C%20%5B40.4167527374316%2C%20-3.70027083136325%5D%2C%20%5B40.388240538785%2C%20-3.73082730012135%5D%2C%20%5B40.4044209341619%2C%20-3.68100826744035%5D%2C%20%5B40.4204691432253%2C%20-3.68723272053043%5D%2C%20%5B40.396002854883%2C%20-3.66808683245111%5D%2C%20%5B40.4204375793623%2C%20-3.6882311974075%5D%2C%20%5B40.4286455798854%2C%20-3.66874610939457%5D%2C%20%5B40.4427679632278%2C%20-3.68078451750728%5D%2C%20%5B40.4192214210498%2C%20-3.70542857791385%5D%2C%20%5B40.4182168482129%2C%20-3.6790075878557%5D%2C%20%5B40.4196872814412%2C%20-3.68806797544639%5D%2C%20%5B40.448583985036%2C%20-3.67767897256979%5D%2C%20%5B40.420048743269%2C%20-3.70334217212386%5D%2C%20%5B40.4224240050095%2C%20-3.70949321138065%5D%2C%20%5B40.4150603556815%2C%20-3.69313320685207%5D%2C%20%5B40.3954061637155%2C%20-3.666155781875%5D%2C%20%5B40.4203276891666%2C%20-3.70470253741572%5D%2C%20%5B40.3953836095582%2C%20-3.66613997154261%5D%2C%20%5B40.4394178076921%2C%20-3.66283076372628%5D%2C%20%5B40.4314995116468%2C%20-3.66259392414195%5D%2C%20%5B40.4271815515398%2C%20-3.71056955739891%5D%2C%20%5B40.4252930284755%2C%20-3.68763660431497%5D%2C%20%5B40.4163244846537%2C%20-3.70692644410355%5D%2C%20%5B40.4198444071696%2C%20-3.69304677937484%5D%2C%20%5B40.4182275462846%2C%20-3.67901237258065%5D%2C%20%5B40.4215373300049%2C%20-3.66918159547839%5D%2C%20%5B40.4168867002944%2C%20-3.702893552936%5D%2C%20%5B40.4187824254974%2C%20-3.69345535197372%5D%2C%20%5B40.3880556393621%2C%20-3.66425947891552%5D%2C%20%5B40.3987962538023%2C%20-3.66848754509938%5D%2C%20%5B40.4280848985274%2C%20-3.66801222973401%5D%2C%20%5B40.3815586375529%2C%20-3.66874575334494%5D%2C%20%5B40.4313436567362%2C%20-3.66296203359661%5D%2C%20%5B40.3631245010636%2C%20-3.75740686523756%5D%2C%20%5B40.4083046204678%2C%20-3.67850300699881%5D%2C%20%5B40.3790523%2C%20-3.66964903%5D%2C%20%5B40.4196710443525%2C%20-3.69225596117368%5D%2C%20%5B40.4190793616639%2C%20-3.69760995722318%5D%2C%20%5B40.4170713881426%2C%20-3.70569627650658%5D%2C%20%5B40.4280802123146%2C%20-3.66799814744518%5D%2C%20%5B40.4197214636817%2C%20-3.69933503546156%5D%2C%20%5B40.4183807492332%2C%20-3.7023681358205%5D%2C%20%5B40.4020170219357%2C%20-3.67777099422959%5D%2C%20%5B40.4217611837549%2C%20-3.70845156137417%5D%2C%20%5B40.4008569208089%2C%20-3.63548514152846%5D%2C%20%5B40.4361997631303%2C%20-3.697935439%5D%2C%20%5B40.4381255618405%2C%20-3.67669733168759%5D%2C%20%5B40.416443968471%2C%20-3.70512045259767%5D%2C%20%5B40.4244830688431%2C%20-3.67565878480397%5D%2C%20%5B40.4170872076339%2C%20-3.70413805582988%5D%2C%20%5B40.4374696174176%2C%20-3.6769497752676%5D%2C%20%5B40.4077940935848%2C%20-3.69261133365314%5D%2C%20%5B40.4252362529295%2C%20-3.68334267911807%5D%2C%20%5B40.3987877793797%2C%20-3.66851848641001%5D%2C%20%5B40.4310139916193%2C%20-3.66329568119445%5D%2C%20%5B40.3794684184114%2C%20-3.62116037990032%5D%2C%20%5B40.3866829952168%2C%20-3.60879045797588%5D%2C%20%5B40.450758138745%2C%20-3.72926577034055%5D%2C%20%5B40.4183452744772%2C%20-3.70967387397242%5D%2C%20%5B40.3693323400467%2C%20-3.61236223801415%5D%2C%20%5B40.3818957183274%2C%20-3.66816308389991%5D%2C%20%5B40.4392511355841%2C%20-3.71798315627412%5D%2C%20%5B40.4190521140737%2C%20-3.7031898907344%5D%2C%20%5B40.4434542520456%2C%20-3.72725406826131%5D%2C%20%5B40.4143721062996%2C%20-3.71368044179582%5D%2C%20%5B40.4395586625089%2C%20-3.71816892923682%5D%2C%20%5B40.4397111371196%2C%20-3.71779774876663%5D%2C%20%5B40.4676195309623%2C%20-3.71943911561907%5D%2C%20%5B40.400161%2C%20-3.621743%5D%2C%20%5B40.4521570535645%2C%20-3.78261444788349%5D%2C%20%5B40.4205688857356%2C%20-3.70658180050997%5D%2C%20%5B40.3970892844157%2C%20-3.77474793250977%5D%2C%20%5B40.381842512523%2C%20-3.62451908584406%5D%2C%20%5B40.4180848560054%2C%20-3.69902683554818%5D%2C%20%5B40.4572268561911%2C%20-3.67782921532159%5D%2C%20%5B40.3871455441097%2C%20-3.75239362997162%5D%2C%20%5B40.37250197718%2C%20-3.61879005593572%5D%2C%20%5B40.4605091193441%2C%20-3.67635021704134%5D%2C%20%5B40.3830485646439%2C%20-3.70767339868947%5D%2C%20%5B40.3693138800587%2C%20-3.61235973403334%5D%2C%20%5B40.3818411775911%2C%20-3.62454556875927%5D%2C%20%5B40.3724862589078%2C%20-3.61883198536354%5D%2C%20%5B40.4402141574468%2C%20-3.72623331880275%5D%2C%20%5B40.4022193122672%2C%20-3.60580877342999%5D%2C%20%5B40.3454032690076%2C%20-3.71243337711153%5D%2C%20%5B40.4199323198958%2C%20-3.7001387462646%5D%2C%20%5B40.4234514871445%2C%20-3.69086467742592%5D%2C%20%5B40.4139191584492%2C%20-3.72389039068123%5D%2C%20%5B40.4243415998891%2C%20-3.68849711368525%5D%2C%20%5B40.4461017516396%2C%20-3.67802999973699%5D%2C%20%5B40.4134547898166%2C%20-3.71361773488444%5D%2C%20%5B40.4077857321349%2C%20-3.69261436517504%5D%2C%20%5B40.3887242074666%2C%20-3.73161498066512%5D%2C%20%5B40.420185574929%2C%20-3.7028898128072%5D%2C%20%5B40.424889%2C%20-3.689373%5D%2C%20%5B40.4217694691489%2C%20-3.70846100547568%5D%2C%20%5B40.4261219074163%2C%20-3.6647482853625%5D%2C%20%5B40.4329108210757%2C%20-3.66172810969328%5D%2C%20%5B40.4213972575303%2C%20-3.68007268592213%5D%2C%20%5B40.4261196672247%2C%20-3.66472331036181%5D%2C%20%5B40.4247115508988%2C%20-3.67622795077083%5D%2C%20%5B40.4246991876721%2C%20-3.6762020953347%5D%2C%20%5B40.4020002650054%2C%20-3.67778329876717%5D%2C%20%5B40.4238301312766%2C%20-3.6880263932861%5D%2C%20%5B40.4313640948712%2C%20-3.66293104158868%5D%2C%20%5B40.4310150760707%2C%20-3.66331440762209%5D%2C%20%5B40.4052776241302%2C%20-3.65082624901169%5D%2C%20%5B40.4276343052057%2C%20-3.66926322725339%5D%2C%20%5B40.4173581097387%2C%20-3.69324644998407%5D%2C%20%5B40.4112896060483%2C%20-3.67652666142213%5D%2C%20%5B40.4246145366083%2C%20-3.68959544677065%5D%2C%20%5B40.4302992913521%2C%20-3.7159166524352%5D%2C%20%5B40.4205617824719%2C%20-3.70657392867891%5D%2C%20%5B40.4061497280022%2C%20-3.69175569459813%5D%2C%20%5B40.4238569496845%2C%20-3.68802588734417%5D%2C%20%5B40.4146700481396%2C%20-3.70096390412276%5D%2C%20%5B40.4241883238505%2C%20-3.67476916930075%5D%2C%20%5B40.4170895620408%2C%20-3.70375136725603%5D%2C%20%5B40.4007592059565%2C%20-3.67876000604443%5D%2C%20%5B40.424887%2C%20-3.689389%5D%2C%20%5B40.4249273605609%2C%20-3.67661998964659%5D%2C%20%5B40.4519162774623%2C%20-3.67768592357885%5D%2C%20%5B40.4054951669183%2C%20-3.70219811810465%5D%2C%20%5B40.421287649186%2C%20-3.707735496616%5D%2C%20%5B40.4323603175744%2C%20-3.6735639658421%5D%2C%20%5B40.418752727651%2C%20-3.71297325939029%5D%2C%20%5B40.3812968084667%2C%20-3.78061756698811%5D%2C%20%5B40.4137146575264%2C%20-3.708087559336%5D%2C%20%5B40.4228384094205%2C%20-3.65619895887839%5D%2C%20%5B40.4246179818525%2C%20-3.68961731513222%5D%2C%20%5B40.4146749950325%2C%20-3.70093432867288%5D%2C%20%5B40.4192590572037%2C%20-3.70512021440114%5D%2C%20%5B40.4201463390286%2C%20-3.70473417120166%5D%2C%20%5B40.4191172803307%2C%20-3.71158460744512%5D%2C%20%5B40.4203954166634%2C%20-3.68930675623681%5D%2C%20%5B40.4200498592029%2C%20-3.70335465849152%5D%2C%20%5B40.4170967623706%2C%20-3.70272607670221%5D%2C%20%5B40.4134535979978%2C%20-3.71361772229366%5D%2C%20%5B40.4192095418109%2C%20-3.70542221594836%5D%2C%20%5B40.4271983022642%2C%20-3.71055881728114%5D%2C%20%5B40.4280093465312%2C%20-3.6872573411875%5D%2C%20%5B40.4182632306511%2C%20-3.70936725851189%5D%2C%20%5B40.4075894787965%2C%20-3.71722867107187%5D%2C%20%5B40.4015438521403%2C%20-3.67435758970013%5D%2C%20%5B40.41960505165%2C%20-3.71118935540156%5D%2C%20%5B40.423890581277%2C%20-3.67268740007132%5D%2C%20%5B40.4170909246988%2C%20-3.70372331303361%5D%2C%20%5B40.4252397270114%2C%20-3.68335986882441%5D%2C%20%5B40.4663749775826%2C%20-3.68842758584747%5D%2C%20%5B40.4513287657271%2C%20-3.69045036903102%5D%2C%20%5B40.4143517982984%2C%20-3.69044712008039%5D%2C%20%5B40.4171148370232%2C%20-3.67858484575632%5D%2C%20%5B40.4241304359349%2C%20-3.67386408616392%5D%2C%20%5B40.4201497529004%2C%20-3.70476071702486%5D%2C%20%5B40.4177398152262%2C%20-3.69845663579228%5D%2C%20%5B40.4169142439828%2C%20-3.70527673651031%5D%2C%20%5B40.3810052295812%2C%20-3.61414254751274%5D%2C%20%5B40.4201050236053%2C%20-3.70172956235781%5D%2C%20%5B40.4171090645211%2C%20-3.70328845023387%5D%2C%20%5B40.4165540869867%2C%20-3.70324339154775%5D%2C%20%5B40.4166635373933%2C%20-3.70462326378666%5D%2C%20%5B40.4241255777361%2C%20-3.67387963236483%5D%2C%20%5B40.4201097089471%2C%20-3.70624484457935%5D%2C%20%5B40.4212959146471%2C%20-3.70774805939208%5D%2C%20%5B40.4249848106829%2C%20-3.67504935838121%5D%2C%20%5B40.4200205389985%2C%20-3.70844967639762%5D%2C%20%5B40.4143601793962%2C%20-3.71368187396077%5D%2C%20%5B40.3671992334631%2C%20-3.59932384504268%5D%2C%20%5B40.4255373832062%2C%20-3.72614175274009%5D%2C%20%5B40.4241328209333%2C%20-3.71200141687635%5D%2C%20%5B40.3422146717169%2C%20-3.71504173307424%5D%2C%20%5B40.4214504263063%2C%20-3.71836263628605%5D%2C%20%5B40.4008144753339%2C%20-3.62113384639494%5D%2C%20%5B40.4251520070213%2C%20-3.68088517393104%5D%2C%20%5B40.4475269272924%2C%20-3.68068308839632%5D%2C%20%5B40.401429%2C%20-3.595894%5D%2C%20%5B40.3927684535815%2C%20-3.72506788745882%5D%2C%20%5B40.3988060678942%2C%20-3.63739829268984%5D%2C%20%5B40.4141364904096%2C%20-3.72404942352152%5D%2C%20%5B40.419597824902%2C%20-3.71120175513642%5D%2C%20%5B40.413822862133%2C%20-3.72850084075309%5D%2C%20%5B40.4184873207375%2C%20-3.71140410214714%5D%2C%20%5B40.3988013778722%2C%20-3.63738421742694%5D%2C%20%5B40.4099125800743%2C%20-3.739003269929%5D%2C%20%5B40.4111194316575%2C%20-3.73814332792714%5D%2C%20%5B40.3837157662748%2C%20-3.78386218049383%5D%2C%20%5B40.447513726316%2C%20-3.6806985552981%5D%2C%20%5B40.381153280368%2C%20-3.60664125912518%5D%2C%20%5B40.424927223659%2C%20-3.67664338116511%5D%2C%20%5B40.403866196692%2C%20-3.66890859258154%5D%2C%20%5B40.3631346588285%2C%20-3.59963218340019%5D%2C%20%5B40.4171970530821%2C%20-3.7129516767529%5D%2C%20%5B40.4169014252394%2C%20-3.71155872868782%5D%2C%20%5B40.4324284934658%2C%20-3.67495276368167%5D%2C%20%5B40.4678489899859%2C%20-3.68835257050756%5D%2C%20%5B40.4328984540957%2C%20-3.6878155742164%5D%2C%20%5B40.4442161118617%2C%20-3.67488019440709%5D%2C%20%5B40.4022361442429%2C%20-3.60578086198483%5D%2C%20%5B40.3794529587686%2C%20-3.62115400368012%5D%2C%20%5B40.4507606503007%2C%20-3.72924551608432%5D%2C%20%5B40.415063657265%2C%20-3.69307944520803%5D%2C%20%5B40.4164021142803%2C%20-3.69347053343672%5D%2C%20%5B40.40641471575%2C%20-3.66842867919339%5D%2C%20%5B40.4212362650344%2C%20-3.67186004533856%5D%2C%20%5B40.4435219625293%2C%20-3.72704843755763%5D%2C%20%5B40.4167276001818%2C%20-3.67628279685205%5D%2C%20%5B40.4112896516646%2C%20-3.67651886543046%5D%2C%20%5B40.4009901715751%2C%20-3.62126329664231%5D%2C%20%5B40.421233953869%2C%20-3.67184754736749%5D%2C%20%5B40.4129108393628%2C%20-3.73081113801927%5D%2C%20%5B40.4082842962322%2C%20-3.67851371743189%5D%2C%20%5B40.4282096515482%2C%20-3.66952158350497%5D%2C%20%5B40.4170467200885%2C%20-3.70295722379954%5D%2C%20%5B40.4241882328296%2C%20-3.67478476426758%5D%2C%20%5B40.4156845525051%2C%20-3.70669626342937%5D%2C%20%5B40.4153620376076%2C%20-3.68872040000661%5D%2C%20%5B40.4356589099644%2C%20-3.71876381502509%5D%2C%20%5B40.3853351637445%2C%20-3.75986563397125%5D%2C%20%5B40.4376833950959%2C%20-3.67710468702761%5D%2C%20%5B40.4165909635556%2C%20-3.68879452483881%5D%2C%20%5B40.4574753560134%2C%20-3.71214954874972%5D%2C%20%5B40.4069301509754%2C%20-3.67064454045788%5D%2C%20%5B40.4180255794458%2C%20-3.70462159979362%5D%2C%20%5B40.4044222628177%2C%20-3.68098489504504%5D%2C%20%5B40.421403097415%2C%20-3.68009301735352%5D%2C%20%5B40.4286455347842%2C%20-3.66875390622352%5D%2C%20%5B40.4263989682694%2C%20-3.67570123812174%5D%2C%20%5B40.4147480330642%2C%20-3.70127189009252%5D%2C%20%5B40.4279998128514%2C%20-3.68725724414116%5D%2C%20%5B40.423886996722%2C%20-3.67268892394262%5D%2C%20%5B40.4197387082842%2C%20-3.70561798958344%5D%2C%20%5B40.4118574028031%2C%20-3.65952762370766%5D%2C%20%5B40.4655309952763%2C%20-3.71932476278883%5D%2C%20%5B40.4241291302376%2C%20-3.7120200917929%5D%2C%20%5B40.437676198484%2C%20-3.67711241314541%5D%2C%20%5B40.4200018382516%2C%20-3.70575874480713%5D%2C%20%5B40.4213341735085%2C%20-3.67394225962683%5D%2C%20%5B40.4063325162703%2C%20-3.6852107554538%5D%2C%20%5B40.4144794276346%2C%20-3.70750694726256%5D%2C%20%5B40.4166865505238%2C%20-3.70235297044174%5D%2C%20%5B40.438111105648%2C%20-3.67672370402111%5D%2C%20%5B40.4213330362227%2C%20-3.67393289114663%5D%2C%20%5B40.4108294174417%2C%20-3.65565704611506%5D%2C%20%5B40.4171041297854%2C%20-3.67858161933338%5D%2C%20%5B40.4191041799278%2C%20-3.71158290994641%5D%2C%20%5B40.4163594598375%2C%20-3.70588363176395%5D%2C%20%5B40.4356590069327%2C%20-3.71874821873332%5D%2C%20%5B40.4197076942235%2C%20-3.70562234398924%5D%2C%20%5B40.4485599940555%2C%20-3.6777052517914%5D%2C%20%5B40.4160286591465%2C%20-3.70321609053505%5D%2C%20%5B40.4176660444124%2C%20-3.70792249507318%5D%2C%20%5B40.4015342547449%2C%20-3.67436840738173%5D%2C%20%5B40.4190235952622%2C%20-3.70503511018872%5D%2C%20%5B40.4183756536191%2C%20-3.67611997255335%5D%2C%20%5B40.4190285760709%2C%20-3.66936569646002%5D%2C%20%5B40.3998678719027%2C%20-3.67583276334601%5D%2C%20%5B40.3968763696881%2C%20-3.774506987655%5D%2C%20%5B40.4182536778651%2C%20-3.70937027707456%5D%2C%20%5B40.4179380449031%2C%20-3.70994612999318%5D%2C%20%5B40.3812122252896%2C%20-3.61913163979193%5D%2C%20%5B40.3869849531423%2C%20-3.7654033155981%5D%2C%20%5B40.3922942816561%2C%20-3.72560992448274%5D%2C%20%5B40.4455253005098%2C%20-3.72768510621544%5D%2C%20%5B40.3836669396326%2C%20-3.7686511517764%5D%2C%20%5B40.4139425231681%2C%20-3.7251068573594%5D%2C%20%5B40.3855642125848%2C%20-3.66662434015854%5D%2C%20%5B40.3632221376029%2C%20-3.74037302493154%5D%2C%20%5B40.3857570556367%2C%20-3.66707823643812%5D%2C%20%5B40.4236673252547%2C%20-3.71088512902163%5D%2C%20%5B40.4587793003388%2C%20-3.71596262348192%5D%2C%20%5B40.3973822465025%2C%20-3.61878815224706%5D%2C%20%5B40.4075995395372%2C%20-3.65062048281013%5D%2C%20%5B40.4138289873157%2C%20-3.72847439911704%5D%2C%20%5B40.3454093711829%2C%20-3.71241007595026%5D%2C%20%5B40.3865928302923%2C%20-3.6087117135201%5D%2C%20%5B40.4498974709387%2C%20-3.72929390839132%5D%2C%20%5B40.4105301287946%2C%20-3.65526122816234%5D%2C%20%5B40.4168993712303%2C%20-3.70241687069868%5D%2C%20%5B40.3850933309559%2C%20-3.64202583500325%5D%2C%20%5B40.3739060928525%2C%20-3.62316006971463%5D%2C%20%5B40.4099071027657%2C%20-3.73902114084988%5D%2C%20%5B40.3785018353466%2C%20-3.62403929338256%5D%2C%20%5B40.3994401614411%2C%20-3.63695842080607%5D%2C%20%5B40.4099328797817%2C%20-3.65254716651522%5D%2C%20%5B40.399444860108%2C%20-3.63697093605797%5D%2C%20%5B40.3853197427692%2C%20-3.75985455104905%5D%2C%20%5B40.3718666783199%2C%20-3.62213144737747%5D%2C%20%5B40.3837039758846%2C%20-3.78384334122892%5D%2C%20%5B40.397450190032%2C%20-3.71661757590524%5D%2C%20%5B40.467538%2C%20-3.67947%5D%2C%20%5B40.4402235449418%2C%20-3.7262568179772%5D%2C%20%5B40.400136%2C%20-3.621751%5D%2C%20%5B40.4138896493777%2C%20-3.72716840072501%5D%2C%20%5B40.3767696324368%2C%20-3.62058236161494%5D%2C%20%5B40.4153299926243%2C%20-3.66591904596211%5D%2C%20%5B40.4315187945115%2C%20-3.66255668158209%5D%2C%20%5B40.4350363086806%2C%20-3.71927229055857%5D%2C%20%5B40.4048672461501%2C%20-3.74502355118979%5D%2C%20%5B40.411106153408%2C%20-3.73816968828044%5D%2C%20%5B40.400821509158%2C%20-3.62115573657648%5D%2C%20%5B40.4585547770263%2C%20-3.71584477888803%5D%2C%20%5B40.4347815923065%2C%20-3.71969962599883%5D%2C%20%5B40.4202259679703%2C%20-3.67601686314493%5D%2C%20%5B40.4123487628194%2C%20-3.7317741095555%5D%2C%20%5B40.4760976271508%2C%20-3.71615268556367%5D%2C%20%5B40.3450211112231%2C%20-3.71275179273832%5D%2C%20%5B40.3931066955099%2C%20-3.6779483971291%5D%2C%20%5B40.4096810604473%2C%20-3.73895786098832%5D%2C%20%5B40.4572288584638%2C%20-3.67779256895734%5D%2C%20%5B40.425151713115%2C%20-3.68093507611608%5D%2C%20%5B40.4147381446378%2C%20-3.70034713758862%5D%2C%20%5B40.4170763672934%2C%20-3.70415665469908%5D%2C%20%5B40.427629583032%2C%20-3.66925538328594%5D%2C%20%5B40.4139205162177%2C%20-3.72386389749648%5D%2C%20%5B40.4039349217123%2C%20-3.60410598334786%5D%2C%20%5B40.3813037507794%2C%20-3.66209399562324%5D%2C%20%5B40.4048399449168%2C%20-3.74556111946019%5D%2C%20%5B40.4121732617278%2C%20-3.73542622220224%5D%2C%20%5B40.4040389202839%2C%20-3.60450290632782%5D%2C%20%5B40.4535804793518%2C%20-3.5935409893718%5D%2C%20%5B40.3459622213774%2C%20-3.71194784673681%5D%2C%20%5B40.3465514404075%2C%20-3.70935268202131%5D%2C%20%5B40.3833989515504%2C%20-3.66334888247676%5D%2C%20%5B40.4044689889183%2C%20-3.60885335894082%5D%2C%20%5B40.4573806885251%2C%20-3.58816031536925%5D%2C%20%5B40.4054825297782%2C%20-3.65063022150164%5D%2C%20%5B40.371962576103%2C%20-3.75182849719757%5D%2C%20%5B40.4099386972634%2C%20-3.65257216968327%5D%2C%20%5B40.4565556038605%2C%20-3.71283990588031%5D%2C%20%5B40.3893451175299%2C%20-3.73731614556573%5D%2C%20%5B40.4659395485642%2C%20-3.71917151648663%5D%2C%20%5B40.3820466323437%2C%20-3.71110567976356%5D%2C%20%5B40.4098505194119%2C%20-3.6527802455119%5D%2C%20%5B40.4098421598706%2C%20-3.65278328207519%5D%2C%20%5B40.4695103218164%2C%20-3.63881368977686%5D%2C%20%5B40.3459536867836%2C%20-3.71197891146347%5D%2C%20%5B40.3671874521713%2C%20-3.59929725116423%5D%2C%20%5B40.3922846590691%2C%20-3.72562384965408%5D%2C%20%5B40.3849862774824%2C%20-3.64330743809541%5D%2C%20%5B40.3682283921947%2C%20-3.76547596817818%5D%2C%20%5B40.3844742355837%2C%20-3.64350564893344%5D%2C%20%5B40.4455443096328%2C%20-3.72769467051768%5D%2C%20%5B40.443442354483%2C%20-3.72725081997343%5D%2C%20%5B40.412345562319%2C%20-3.65447505942879%5D%2C%20%5B40.400610927567%2C%20-3.63535499373194%5D%2C%20%5B40.45133370072%2C%20-3.69042233686306%5D%2C%20%5B40.4062184776661%2C%20-3.64632283422514%5D%2C%20%5B40.3460351532527%2C%20-3.71113550100217%5D%2C%20%5B40.3660628043318%2C%20-3.60038053076326%5D%2C%20%5B40.3972739042767%2C%20-3.61965701210542%5D%2C%20%5B40.376622576864%2C%20-3.69593196601655%5D%2C%20%5B40.3728264921779%2C%20-3.76457235989123%5D%2C%20%5B40.3819614855825%2C%20-3.66342659057816%5D%2C%20%5B40.3775632062811%2C%20-3.76848497050701%5D%2C%20%5B40.3785400635284%2C%20-3.7791351511256%5D%2C%20%5B40.4190840276445%2C%20-3.69582401782188%5D%2C%20%5B40.4482393157129%2C%20-3.78563760243222%5D%2C%20%5B40.4141398998619%2C%20-3.72407596788895%5D%2C%20%5B40.3997776995225%2C%20-3.621367511698%5D%2C%20%5B40.4222984382733%2C%20-3.70897961374155%5D%2C%20%5B40.3931280562018%2C%20-3.67796419888296%5D%2C%20%5B40.4055026234065%2C%20-3.65066003779765%5D%2C%20%5B40.3741308628868%2C%20-3.6600852109436%5D%2C%20%5B40.4076127014687%2C%20-3.65061125431808%5D%2C%20%5B40.3927828913518%2C%20-3.72504621945577%5D%2C%20%5B40.3858535235468%2C%20-3.76241354172142%5D%2C%20%5B40.4184350280409%2C%20-3.69355158415653%5D%2C%20%5B40.4180932921282%2C%20-3.69901132958498%5D%2C%20%5B40.3907512493639%2C%20-3.72821737277479%5D%2C%20%5B40.4157994740472%2C%20-3.70327451720382%5D%2C%20%5B40.4121611858158%2C%20-3.73545103846239%5D%2C%20%5B40.4443922549479%2C%20-3.614042608%5D%2C%20%5B40.4214034716622%2C%20-3.70111169939404%5D%2C%20%5B40.4240024533132%2C%20-3.69847317920174%5D%2C%20%5B40.4202662874747%2C%20-3.70411945990593%5D%2C%20%5B40.4200098163254%2C%20-3.70278584343207%5D%2C%20%5B40.418344%2C%20-3.698302%5D%2C%20%5B40.4191203519685%2C%20-3.6972361303695%5D%2C%20%5B40.4231375427499%2C%20-3.71061962479688%5D%2C%20%5B40.4158113818791%2C%20-3.70327619940303%5D%2C%20%5B40.4202250825824%2C%20-3.70344848888652%5D%2C%20%5B40.4187557152861%2C%20-3.69712710998416%5D%2C%20%5B40.4095169845428%2C%20-3.69269292069502%5D%2C%20%5B40.4302874223885%2C%20-3.71590872911543%5D%2C%20%5B40.4216148687938%2C%20-3.70782235649831%5D%2C%20%5B40.4211628950215%2C%20-3.70718527371831%5D%2C%20%5B40.4200738080907%2C%20-3.70107975058538%5D%2C%20%5B40.4043003326236%2C%20-3.71557258673761%5D%2C%20%5B40.4217330414949%2C%20-3.7056656239635%5D%2C%20%5B40.4162857575504%2C%20-3.71500190274931%5D%2C%20%5B40.4200739215623%2C%20-3.70106103786865%5D%2C%20%5B40.4543465425322%2C%20-3.68983533989995%5D%2C%20%5B40.4169162583737%2C%20-3.70480990100815%5D%2C%20%5B40.4197178669105%2C%20-3.69983088318854%5D%2C%20%5B40.4519137566296%2C%20-3.67770930050076%5D%2C%20%5B40.420358599775%2C%20-3.70539913261126%5D%2C%20%5B40.4191249876042%2C%20-3.69725800962171%5D%2C%20%5B40.416888805551%2C%20-3.70285890226204%5D%2C%20%5B40.419044000082%2C%20-3.69395703683781%5D%2C%20%5B40.4210943388534%2C%20-3.69962309511914%5D%2C%20%5B40.419942038901%2C%20-3.70118987841714%5D%2C%20%5B40.4211558776396%2C%20-3.70716336818894%5D%2C%20%5B40.4260889686218%2C%20-3.70116234981462%5D%2C%20%5B40.4454515637791%2C%20-3.67783548774688%5D%2C%20%5B40.429380006891%2C%20-3.68724633992509%5D%2C%20%5B40.4264553409657%2C%20-3.67548825656032%5D%2C%20%5B40.4268108830068%2C%20-3.703766500626%5D%2C%20%5B40.4199385863852%2C%20-3.70116956922539%5D%2C%20%5B40.4229472896978%2C%20-3.70074955837471%5D%2C%20%5B40.4203231984102%2C%20-3.70465726750589%5D%2C%20%5B40.4070512299243%2C%20-3.68822803419492%5D%2C%20%5B40.4501817109633%2C%20-3.70338506461711%5D%2C%20%5B40.4143668138128%2C%20-3.70183394440728%5D%2C%20%5B40.4223992169598%2C%20-3.70945396468797%5D%2C%20%5B40.4062921598488%2C%20-3.71200312384634%5D%2C%20%5B40.4199502578259%2C%20-3.70179968597482%5D%2C%20%5B40.4010649732947%2C%20-3.71380552470888%5D%2C%20%5B40.4268131907016%2C%20-3.70377900067519%5D%2C%20%5B40.4203057482274%2C%20-3.6961943821712%5D%2C%20%5B40.4211430384642%2C%20-3.70479475972014%5D%2C%20%5B40.4191289946138%2C%20-3.6954814190002%5D%2C%20%5B40.4064204486843%2C%20-3.66846771299442%5D%2C%20%5B40.4038117358749%2C%20-3.70660148522827%5D%2C%20%5B40.4469886175361%2C%20-3.70342041503255%5D%2C%20%5B40.4194016180713%2C%20-3.6987173276809%5D%2C%20%5B40.4162060012807%2C%20-3.71352483712248%5D%2C%20%5B40.4124504602345%2C%20-3.69957861719743%5D%2C%20%5B40.4200108849301%2C%20-3.70280612556066%5D%2C%20%5B40.4152863293757%2C%20-3.70555070007696%5D%2C%20%5B40.406160417125%2C%20-3.69176204071552%5D%2C%20%5B40.4151902246089%2C%20-3.70665055001848%5D%2C%20%5B40.4188773788426%2C%20-3.7022313988845%5D%2C%20%5B40.4051165696106%2C%20-3.70683183844684%5D%2C%20%5B40.4157620806886%2C%20-3.70766071948829%5D%2C%20%5B40.418349%2C%20-3.698286%5D%2C%20%5B40.4211691236081%2C%20-3.70481686400911%5D%2C%20%5B40.4071427709475%2C%20-3.69350425590818%5D%2C%20%5B40.4212956765749%2C%20-3.6692206949855%5D%2C%20%5B40.4187450462036%2C%20-3.69711764309205%5D%2C%20%5B40.4206086178249%2C%20-3.69913932497899%5D%2C%20%5B40.4147238720027%2C%20-3.7003423126807%5D%2C%20%5B40.4194285087873%2C%20-3.69831060728891%5D%2C%20%5B40.4088835358791%2C%20-3.69398362909878%5D%2C%20%5B40.4199276848027%2C%20-3.70011686773879%5D%2C%20%5B40.3631139490629%2C%20-3.75738025934493%5D%2C%20%5B40.4167359876183%2C%20-3.70028157360144%5D%2C%20%5B40.4165551839678%2C%20-3.70325899588919%5D%2C%20%5B40.3785363201094%2C%20-3.77916004327831%5D%2C%20%5B40.3887214696277%2C%20-3.66349915307006%5D%2C%20%5B40.3849936183717%2C%20-3.64327321922644%5D%2C%20%5B40.3517589972963%2C%20-3.68666478660117%5D%2C%20%5B40.3927036946643%2C%20-3.65870667235898%5D%2C%20%5B40.387623245808%2C%20-3.64000023223922%5D%2C%20%5B40.4680146326177%2C%20-3.71953228002531%5D%2C%20%5B40.3781662834693%2C%20-3.76506796268759%5D%2C%20%5B40.4478687910125%2C%20-3.70902851277108%5D%2C%20%5B40.3914330726839%2C%20-3.65393187774922%5D%2C%20%5B40.4134847630745%2C%20-3.72853539644465%5D%2C%20%5B40.416915199625%2C%20-3.70478805928548%5D%2C%20%5B40.3927154611884%2C%20-3.65873328531235%5D%2C%20%5B40.410529025317%2C%20-3.65524562590565%5D%2C%20%5B40.4176719357802%2C%20-3.70793347169304%5D%2C%20%5B40.3984632094679%2C%20-3.66898294590824%5D%2C%20%5B40.3858440609876%2C%20-3.76240252413869%5D%2C%20%5B40.4068216541988%2C%20-3.71082390472015%5D%2C%20%5B40.3833919167359%2C%20-3.66332855341533%5D%2C%20%5B40.3976806956694%2C%20-3.66823124020573%5D%2C%20%5B40.3516092702655%2C%20-3.69198944880875%5D%2C%20%5B40.4392761715233%2C%20-3.71798186386929%5D%2C%20%5B40.381303866773%2C%20-3.66207373615305%5D%2C%20%5B40.3896787976794%2C%20-3.64563879576688%5D%2C%20%5B40.4124141864258%2C%20-3.73207652818263%5D%2C%20%5B40.3966982780622%2C%20-3.66628623576834%5D%2C%20%5B40.4346885907754%2C%20-3.71941676063026%5D%2C%20%5B40.359914576347%2C%20-3.59326349907114%5D%2C%20%5B40.4173909034018%2C%20-3.7131339590247%5D%2C%20%5B40.3516066815492%2C%20-3.69202369408286%5D%2C%20%5B40.4395647087759%2C%20-3.71815495529182%5D%2C%20%5B40.3983669394361%2C%20-3.66889276163793%5D%2C%20%5B40.4652019581014%2C%20-3.71684639698693%5D%2C%20%5B40.3782685%2C%20-3.76457042096384%5D%2C%20%5B40.3741619556652%2C%20-3.66006681431855%5D%2C%20%5B40.3978078686139%2C%20-3.66808596294835%5D%2C%20%5B40.4245925853371%2C%20-3.72497570069946%5D%2C%20%5B40.4315941526418%2C%20-3.7070800615525%5D%2C%20%5B40.3855913200923%2C%20-3.76494018798643%5D%2C%20%5B40.4048517333995%2C%20-3.74502649842159%5D%2C%20%5B40.4102968837046%2C%20-3.65288122722818%5D%2C%20%5B40.3819733315367%2C%20-3.6634391745252%5D%2C%20%5B40.3836596644607%2C%20-3.76866977166662%5D%2C%20%5B40.3973776802203%2C%20-3.61875069748183%5D%2C%20%5B40.3516445677799%2C%20-3.69166734141391%5D%2C%20%5B40.3896882018639%2C%20-3.64566226629037%5D%2C%20%5B40.4197352985151%2C%20-3.70598129113473%5D%2C%20%5B40.3821991125399%2C%20-3.62501564553889%5D%2C%20%5B40.3914389789913%2C%20-3.6539412867004%5D%2C%20%5B40.4031946029236%2C%20-3.66125778405996%5D%2C%20%5B40.3824999456527%2C%20-3.66409268938665%5D%2C%20%5B40.3526831734596%2C%20-3.68456951331811%5D%2C%20%5B40.3979074543878%2C%20-3.66920778653075%5D%2C%20%5B40.3984871615717%2C%20-3.66896291724012%5D%2C%20%5B40.4806822965801%2C%20-3.73129274866068%5D%2C%20%5B40.3917507843262%2C%20-3.65401813512206%5D%2C%20%5B40.4577513388169%2C%20-3.71184664970834%5D%2C%20%5B40.4029980626621%2C%20-3.6616549654336%5D%2C%20%5B40.3952387396267%2C%20-3.66763850043316%5D%2C%20%5B40.3976724528258%2C%20-3.66821401115363%5D%2C%20%5B40.3516409465949%2C%20-3.69167509280897%5D%2C%20%5B40.4680512666452%2C%20-3.6779192790327%5D%2C%20%5B40.4031998810343%2C%20-3.66127264542745%5D%2C%20%5B40.414145564447%2C%20-3.72507395444693%5D%2C%20%5B40.4677188322298%2C%20-3.68859468004674%5D%2C%20%5B40.4163721753529%2C%20-3.69347474986033%5D%2C%20%5B40.3631264289233%2C%20-3.59961029709092%5D%2C%20%5B40.35164121899%2C%20-3.69003315427706%5D%2C%20%5B40.4763146751345%2C%20-3.68617125046599%5D%2C%20%5B40.4157156666836%2C%20-3.70955315018539%5D%2C%20%5B40.4105567024238%2C%20-3.65267013057034%5D%2C%20%5B40.4287514870732%2C%20-3.7217240758336%5D%2C%20%5B40.3517519313233%2C%20-3.68745297255145%5D%2C%20%5B40.4156199155938%2C%20-3.70810518788886%5D%2C%20%5B40.4282013006287%2C%20-3.66952306037229%5D%2C%20%5B40.3969597352792%2C%20-3.71748533861492%5D%2C%20%5B40.4565495302544%2C%20-3.7128585645143%5D%2C%20%5B40.4030183586248%2C%20-3.661648927761%5D%2C%20%5B40.3977982808107%2C%20-3.66809522086985%5D%2C%20%5B40.3967088869012%2C%20-3.66630660556788%5D%2C%20%5B40.3992274932313%2C%20-3.62925379967527%5D%2C%20%5B40.41802624618%2C%20-3.70933670180575%5D%2C%20%5B40.3940749682478%2C%20-3.69648900041724%5D%2C%20%5B40.4055336568686%2C%20-3.60833131166976%5D%2C%20%5B40.3836627898964%2C%20-3.7293329347094%5D%2C%20%5B40.3822015879859%2C%20-3.62499852476158%5D%2C%20%5B40.4255539501522%2C%20-3.7261606451256%5D%2C%20%5B40.4123549548745%2C%20-3.65450009829505%5D%2C%20%5B40.3959958398715%2C%20-3.66806338023394%5D%2C%20%5B40.4164751109182%2C%20-3.71367537346158%5D%2C%20%5B40.4055489438924%2C%20-3.59947140096857%5D%2C%20%5B40.4103014925761%2C%20-3.65290933623696%5D%2C%20%5B40.3526688815153%2C%20-3.68456781085365%5D%2C%20%5B40.3949477554398%2C%20-3.72115369738701%5D%2C%20%5B40.3850509511176%2C%20-3.72829030366795%5D%2C%20%5B40.4109463596001%2C%20-3.7355656655316%5D%2C%20%5B40.4113415348555%2C%20-3.65959820771801%5D%2C%20%5B40.3772700941481%2C%20-3.65988676022507%5D%2C%20%5B40.417269153336%2C%20-3.70649114545194%5D%2C%20%5B40.4190522468454%2C%20-3.70316806075035%5D%2C%20%5B40.4190369155646%2C%20-3.69394604776875%5D%2C%20%5B40.4188463459565%2C%20-3.70223887234756%5D%2C%20%5B40.416221503634%2C%20-3.71352344266644%5D%2C%20%5B40.4206206011449%2C%20-3.69912853250998%5D%2C%20%5B40.4154644756082%2C%20-3.70319228440562%5D%2C%20%5B40.4200039213232%2C%20-3.70843858564937%5D%2C%20%5B40.4227463298286%2C%20-3.6976742198499%5D%2C%20%5B40.4996873072905%2C%20-3.70896767320692%5D%2C%20%5B40.4197108867721%2C%20-3.69980274252189%5D%2C%20%5B40.4231576302164%2C%20-3.71064790712469%5D%2C%20%5B40.4185954910201%2C%20-3.71062203250247%5D%2C%20%5B40.4157533395194%2C%20-3.70444848834028%5D%2C%20%5B40.4171959670274%2C%20-3.71293451280203%5D%2C%20%5B40.4261067882624%2C%20-3.7011718926477%5D%2C%20%5B40.4203056458343%2C%20-3.69621153558084%5D%2C%20%5B40.4010033228383%2C%20-3.62125562226594%5D%2C%20%5B40.3682117695777%2C%20-3.76546643036228%5D%2C%20%5B40.4172668944589%2C%20-3.70647085046283%5D%2C%20%5B40.4576423793707%2C%20-3.71289555764685%5D%2C%20%5B40.456734%2C%20-3.618278%5D%2C%20%5B40.3798078848294%2C%20-3.62142064585166%5D%2C%20%5B40.41876585%2C%20-3.71297183843087%5D%2C%20%5B40.4204540969079%2C%20-3.6882594355716%5D%2C%20%5B40.419664053027%2C%20-3.69222938066988%5D%2C%20%5B40.416285622552%2C%20-3.71502373178332%5D%2C%20%5B40.4161103864163%2C%20-3.70773270294252%5D%2C%20%5B40.4164785227476%2C%20-3.71370191826108%5D%2C%20%5B40.4048369359846%2C%20-3.60914198119928%5D%2C%20%5B40.4156459320373%2C%20-3.70883953307895%5D%2C%20%5B40.4180734587431%2C%20-3.7114527603749%5D%2C%20%5B40.4124349863091%2C%20-3.69957533831789%5D%2C%20%5B40.4582430494784%2C%20-3.68976018706312%5D%2C%20%5B40.373326%2C%20-3.665486%5D%2C%20%5B40.3516628184205%2C%20-3.68880892890571%5D%2C%20%5B40.3979217915745%2C%20-3.66920169256229%5D%2C%20%5B40.3782745783256%2C%20-3.76455178861467%5D%2C%20%5B40.4360851245463%2C%20-3.65080655787514%5D%2C%20%5B40.3825118004754%2C%20-3.66410371619031%5D%2C%20%5B40.44969485523%2C%20-3.65115452236098%5D%2C%20%5B40.4791167388817%2C%20-3.70633090352909%5D%2C%20%5B40.4100930016124%2C%20-3.7383722233988%5D%2C%20%5B40.3772619211225%2C%20-3.65985707005592%5D%2C%20%5B40.4118704320203%2C%20-3.65954178346868%5D%2C%20%5B40.4275839129406%2C%20-3.62293162379571%5D%2C%20%5B40.4625320281851%2C%20-3.6759765109068%5D%2C%20%5B40.4246045808058%2C%20-3.72496335273522%5D%2C%20%5B40.4293489665857%2C%20-3.68725538218315%5D%2C%20%5B40.3945269303033%2C%20-3.76834150151528%5D%2C%20%5B40.4109378780392%2C%20-3.73558740190028%5D%2C%20%5B40.4625129426441%2C%20-3.67597944053161%5D%2C%20%5B40.413890988284%2C%20-3.72714502611182%5D%2C%20%5B40.4659217015011%2C%20-3.71916664329222%5D%2C%20%5B40.4526068265511%2C%20-3.68096393385534%5D%2C%20%5B40.4745195733555%2C%20-3.57796150286256%5D%2C%20%5B40.3861575711273%2C%20-3.72781593592513%5D%2C%20%5B40.4437430058094%2C%20-3.61712071531538%5D%2C%20%5B40.4694936112827%2C%20-3.63881821334486%5D%2C%20%5B40.419041122556%2C%20-3.62121398853633%5D%2C%20%5B40.4813426374808%2C%20-3.73240965214766%5D%2C%20%5B40.3875437783454%2C%20-3.72704062532812%5D%2C%20%5B40.3906469651769%2C%20-3.72869009841591%5D%2C%20%5B40.4179530473519%2C%20-3.62053657763099%5D%2C%20%5B40.3896670722918%2C%20-3.73560665412978%5D%2C%20%5B40.4060438674702%2C%20-3.60831095959677%5D%2C%20%5B40.3905419554037%2C%20-3.72521644011514%5D%2C%20%5B40.4005045606781%2C%20-3.68825510627438%5D%2C%20%5B40.4736650517637%2C%20-3.57700530590366%5D%2C%20%5B40.3914351072447%2C%20-3.72749992866718%5D%2C%20%5B40.5053481883215%2C%20-3.69576422510783%5D%2C%20%5B40.443747873078%2C%20-3.61710204049797%5D%2C%20%5B40.4736508440886%2C%20-3.57698645662995%5D%2C%20%5B40.4931423563396%2C%20-3.72469188087754%5D%2C%20%5B40.4025417735407%2C%20-3.71127061501859%5D%2C%20%5B40.4719171564819%2C%20-3.63583300396202%5D%2C%20%5B40.4931663471353%2C%20-3.72466716244877%5D%2C%20%5B40.4804437434587%2C%20-3.70289468114275%5D%2C%20%5B40.4651506062294%2C%20-3.59283899970913%5D%2C%20%5B40.3874369473273%2C%20-3.69924129835192%5D%2C%20%5B40.4978854931198%2C%20-3.65821878052589%5D%2C%20%5B40.3915131461281%2C%20-3.72702085247975%5D%2C%20%5B40.4761030192069%2C%20-3.71585933392136%5D%2C%20%5B40.389092375324%2C%20-3.73863514962696%5D%2C%20%5B40.3992946923199%2C%20-3.68458727672462%5D%2C%20%5B40.3887804490675%2C%20-3.73120254183338%5D%2C%20%5B40.4734405409956%2C%20-3.5937656965486%5D%2C%20%5B40.4490464228906%2C%20-3.60929243112922%5D%2C%20%5B40.4490321948506%2C%20-3.60927826232674%5D%2C%20%5B40.4846431299069%2C%20-3.66316869696012%5D%2C%20%5B40.4791216491759%2C%20-3.70630754332284%5D%2C%20%5B40.3649606301541%2C%20-3.73838362599413%5D%2C%20%5B40.4755803510375%2C%20-3.71016978839052%5D%2C%20%5B40.4937809923576%2C%20-3.72395879126702%5D%2C%20%5B40.365325429742%2C%20-3.73780798188448%5D%2C%20%5B40.3463314583286%2C%20-3.70829737556214%5D%2C%20%5B40.4386645845771%2C%20-3.65426850677414%5D%2C%20%5B40.4191756893422%2C%20-3.6140337097581%5D%2C%20%5B40.4824004516047%2C%20-3.71786478981569%5D%2C%20%5B40.3491603431408%2C%20-3.71139498017123%5D%2C%20%5B40.4190531908643%2C%20-3.62118603023012%5D%2C%20%5B40.4740227029301%2C%20-3.57769973494232%5D%2C%20%5B40.4179385704103%2C%20-3.62056919180802%5D%2C%20%5B40.4465329465028%2C%20-3.61130751124383%5D%2C%20%5B40.4783906665843%2C%20-3.70822349993279%5D%2C%20%5B40.3491580552881%2C%20-3.71137937757395%5D%2C%20%5B40.4855290709064%2C%20-3.66330229031167%5D%2C%20%5B40.4568807680307%2C%20-3.64415960942667%5D%2C%20%5B40.469825617197%2C%20-3.64063315708802%5D%2C%20%5B40.4956074485622%2C%20-3.7220700746804%5D%2C%20%5B40.4632603117149%2C%20-3.65747209884183%5D%2C%20%5B40.4187066232458%2C%20-3.61796373338725%5D%2C%20%5B40.3884477147431%2C%20-3.73123635114551%5D%2C%20%5B40.4165671155248%2C%20-3.71498772887112%5D%2C%20%5B40.4235095545289%2C%20-3.62728227907828%5D%2C%20%5B40.497878431141%2C%20-3.65820309974847%5D%2C%20%5B40.4435505821135%2C%20-3.61699884084309%5D%2C%20%5B40.4969836616715%2C%20-3.65919975373036%5D%2C%20%5B40.4023958960397%2C%20-3.70620316967158%5D%2C%20%5B40.4149083456643%2C%20-3.7056769517296%5D%2C%20%5B40.4165382214883%2C%20-3.70510428306477%5D%2C%20%5B40.4151349647949%2C%20-3.70328552947039%5D%2C%20%5B40.4158828830571%2C%20-3.70875817197566%5D%2C%20%5B40.4180369716504%2C%20-3.70933681445176%5D%2C%20%5B40.4763289759879%2C%20-3.68617139605814%5D%2C%20%5B40.4200053557011%2C%20-3.7057681373235%5D%2C%20%5B40.4164086051005%2C%20-3.71344389281113%5D%2C%20%5B40.4143667002365%2C%20-3.70185265436127%5D%2C%20%5B40.4180615030766%2C%20-3.71145887221054%5D%2C%20%5B40.4165407572671%2C%20-3.70507936134359%5D%2C%20%5B40.4082735866454%2C%20-3.70068132185616%5D%2C%20%5B40.406821520015%2C%20-3.71084573071622%5D%2C%20%5B40.4181964546662%2C%20-3.70405967694757%5D%2C%20%5B40.4174123735563%2C%20-3.71313106804122%5D%2C%20%5B40.4124633516047%2C%20-3.70373875094756%5D%2C%20%5B40.4160131758582%2C%20-3.70321436993677%5D%2C%20%5B40.4140385734613%2C%20-3.70152180114514%5D%2C%20%5B40.4203810413009%2C%20-3.68931908550024%5D%2C%20%5B40.4201110817377%2C%20-3.70621523094875%5D%2C%20%5B40.4150274033313%2C%20-3.70735519959534%5D%2C%20%5B40.4194030887618%2C%20-3.71163387502442%5D%2C%20%5B40.4155448783353%2C%20-3.7094172570997%5D%2C%20%5B40.4150014108583%2C%20-3.70605059078531%5D%2C%20%5B40.4177648166%2C%20-3.69931426174956%5D%2C%20%5B40.414434%2C%20-3.703987%5D%2C%20%5B40.4165660394139%2C%20-3.71496900574479%5D%2C%20%5B40.4608309579029%2C%20-3.69850850595192%5D%2C%20%5B40.4168078427194%2C%20-3.70042109836241%5D%2C%20%5B40.417760453734%2C%20-3.6993261665394%5D%2C%20%5B40.4287932422792%2C%20-3.70208095412633%5D%2C%20%5B40.4082449469017%2C%20-3.70068726053033%5D%2C%20%5B40.41748%2C%20-3.707247%5D%2C%20%5B40.4157520155949%2C%20-3.70447030483115%5D%2C%20%5B40.4187899895189%2C%20-3.69348583737984%5D%2C%20%5B40.4070441717591%2C%20-3.68821237156725%5D%2C%20%5B40.4154701301003%2C%20-3.70913239413643%5D%2C%20%5B40.4173062566573%2C%20-3.70365276686124%5D%2C%20%5B40.4153829184771%2C%20-3.70936069360822%5D%2C%20%5B40.4199515339296%2C%20-3.70178566501932%5D%2C%20%5B40.4216029515078%2C%20-3.70782223158647%5D%2C%20%5B40.4087447534056%2C%20-3.69327747515576%5D%2C%20%5B40.4180137295615%2C%20-3.70461056124024%5D%2C%20%5B40.4064082822192%2C%20-3.6885731389511%5D%2C%20%5B40.4123622742961%2C%20-3.7050708292284%5D%2C%20%5B40.435502753464%2C%20-3.71857654098431%5D%2C%20%5B40.4210823649322%2C%20-3.69963232697872%5D%2C%20%5B40.4579083832633%2C%20-3.70169707509734%5D%2C%20%5B40.4184070441662%2C%20-3.70235593483496%5D%2C%20%5B40.4205655403031%2C%20-3.70143042725259%5D%2C%20%5B40.4097267029012%2C%20-3.7033831055847%5D%2C%20%5B40.4071438786159%2C%20-3.69351829883703%5D%2C%20%5B40.4090204297013%2C%20-3.69250763207674%5D%2C%20%5B40.4465512917071%2C%20-3.70360461747822%5D%2C%20%5B40.4084818029633%2C%20-3.70073960977312%5D%2C%20%5B40.4222795813509%2C%20-3.70894510820282%5D%2C%20%5B40.4016953036344%2C%20-3.6937250773557%5D%2C%20%5B40.4270414924743%2C%20-3.7042088629969%5D%2C%20%5B40.4190875538753%2C%20-3.69763499216314%5D%2C%20%5B40.41476%2C%20-3.706759%5D%2C%20%5B40.4148531595681%2C%20-3.70758882566148%5D%2C%20%5B40.4079756849946%2C%20-3.70283243736075%5D%2C%20%5B40.4846132719353%2C%20-3.7074615881982%5D%2C%20%5B40.4710330047426%2C%20-3.72056716499594%5D%2C%20%5B40.415138%2C%20-3.705534%5D%2C%20%5B40.414761%2C%20-3.706776%5D%2C%20%5B40.4194039451764%2C%20-3.69872670743345%5D%2C%20%5B40.415124%2C%20-3.705536%5D%2C%20%5B40.4087170617335%2C%20-3.70105543603159%5D%2C%20%5B40.4231790571686%2C%20-3.71036119081656%5D%2C%20%5B40.4523209749526%2C%20-3.69154326313145%5D%2C%20%5B40.3766332555502%2C%20-3.69593986833673%5D%2C%20%5B40.4144663471305%2C%20-3.70750213334865%5D%2C%20%5B40.4201786515197%2C%20-3.70285231526084%5D%2C%20%5B40.4455535531892%2C%20-3.78800288378053%5D%2C%20%5B40.4148400972533%2C%20-3.70758089315454%5D%2C%20%5B40.4338428231642%2C%20-3.704199429624%5D%2C%20%5B40.4578929758355%2C%20-3.7016828726852%5D%2C%20%5B40.4583283317663%2C%20-3.6904475834963%5D%2C%20%5B40.3466711932805%2C%20-3.70887104843709%5D%2C%20%5B40.397452583336%2C%20-3.71661604231256%5D%2C%20%5B40.4366308644811%2C%20-3.7041566597964%5D%2C%20%5B40.4150150654269%2C%20-3.70761858928352%5D%2C%20%5B40.4480281038676%2C%20-3.72763544731662%5D%2C%20%5B40.4214255899108%2C%20-3.70110023319936%5D%2C%20%5B40.3954763337328%2C%20-3.6776120732449%5D%2C%20%5B40.4088467543701%2C%20-3.70109108255239%5D%2C%20%5B40.4124397232895%2C%20-3.70331283778003%5D%2C%20%5B40.4146165433384%2C%20-3.70367619514896%5D%2C%20%5B40.3830484501956%2C%20-3.7076920999524%5D%2C%20%5B40.4500394016344%2C%20-3.72733420275697%5D%2C%20%5B40.3447242423351%2C%20-3.70691426281123%5D%2C%20%5B40.4572619572676%2C%20-3.71177283380619%5D%2C%20%5B40.4787214338629%2C%20-3.70675674735313%5D%2C%20%5B40.4086484043853%2C%20-3.70117477586454%5D%2C%20%5B40.4088751659312%2C%20-3.69398822082196%5D%2C%20%5B40.4081670382525%2C%20-3.69302520492664%5D%2C%20%5B40.4095050485113%2C%20-3.69269591680895%5D%2C%20%5B40.4473788965226%2C%20-3.70411245660713%5D%2C%20%5B40.3688881733474%2C%20-3.68613516925793%5D%2C%20%5B40.4124170111217%2C%20-3.70469406889237%5D%2C%20%5B40.3902265433325%2C%20-3.64543102769897%5D%2C%20%5B40.4227343278363%2C%20-3.69768812946707%5D%2C%20%5B40.3820632307511%2C%20-3.71111988182589%5D%2C%20%5B40.4143584598662%2C%20-3.70760391393709%5D%2C%20%5B40.479132%2C%20-3.704452%5D%2C%20%5B40.3948779127244%2C%20-3.72088639536847%5D%2C%20%5B40.4202664773987%2C%20-3.70408827433348%5D%2C%20%5B40.4150040723442%2C%20-3.70629776463148%5D%2C%20%5B40.3859604732775%2C%20-3.70509320439576%5D%2C%20%5B40.418500410649%2C%20-3.71140735893772%5D%2C%20%5B40.4292710583115%2C%20-3.70190188984652%5D%2C%20%5B40.4203588090724%2C%20-3.70536482820839%5D%2C%20%5B40.4459621750785%2C%20-3.69172993794618%5D%2C%20%5B40.4229294038431%2C%20-3.70075093232483%5D%2C%20%5B40.4096459907782%2C%20-3.70381884276866%5D%2C%20%5B40.3956819146846%2C%20-3.71943278482911%5D%2C%20%5B40.3828535982445%2C%20-3.72988995609932%5D%2C%20%5B40.4068239365797%2C%20-3.68942240186552%5D%2C%20%5B40.4996824164747%2C%20-3.70898791786746%5D%2C%20%5B40.3463112848013%2C%20-3.7082831444205%5D%2C%20%5B40.4396646056501%2C%20-3.71747353915182%5D%2C%20%5B40.4396668528447%2C%20-3.71749540106608%5D%2C%20%5B40.4096236644057%2C%20-3.70386381153351%5D%2C%20%5B40.4198443043436%2C%20-3.69306393266946%5D%2C%20%5B40.4146069527361%2C%20-3.70368545024851%5D%2C%20%5B40.4483212232956%2C%20-3.78515962297158%5D%2C%20%5B40.3836494128011%2C%20-3.72918628682778%5D%2C%20%5B40.4907986770193%2C%20-3.71648935495155%5D%2C%20%5B40.4086649660954%2C%20-3.7011952165307%5D%2C%20%5B40.4205852569227%2C%20-3.70142205536259%5D%2C%20%5B40.4652502311489%2C%20-3.69246310571491%5D%2C%20%5B40.4124407064563%2C%20-3.70334715058558%5D%2C%20%5B40.4124087833044%2C%20-3.70467527247131%5D%2C%20%5B40.4298922390203%2C%20-3.70598225700924%5D%2C%20%5B40.4123443788605%2C%20-3.70507376107181%5D%2C%20%5B40.4197190800392%2C%20-3.69933501077851%5D%2C%20%5B40.4202228507414%2C%20-3.70342351490522%5D%2C%20%5B40.3905447060258%2C%20-3.69532812727828%5D%2C%20%5B40.4658922617431%2C%20-3.69023122511755%5D%2C%20%5B40.4145347721056%2C%20-3.70340403059972%5D%2C%20%5B40.4064013178451%2C%20-3.68854188563104%5D%2C%20%5B40.4459907955724%2C%20-3.69172711118517%5D%2C%20%5B40.4644830650874%2C%20-3.6979510375574%5D%2C%20%5B40.4642120305998%2C%20-3.61606651293898%5D%2C%20%5B40.368871544026%2C%20-3.68612565074714%5D%2C%20%5B40.4205243992535%2C%20-3.72008372660329%5D%2C%20%5B40.4090081560953%2C%20-3.69248033824019%5D%2C%20%5B40.4907723430464%2C%20-3.71650780719669%5D%2C%20%5B40.44834%2C%20-3.694512%5D%2C%20%5B40.4611680028472%2C%20-3.69785743262038%5D%2C%20%5B40.4478386711342%2C%20-3.59515533705641%5D%2C%20%5B40.4749492328847%2C%20-3.71124468038385%5D%2C%20%5B40.4149945196305%2C%20-3.70630078349046%5D%2C%20%5B40.4716303156031%2C%20-3.70945399927963%5D%2C%20%5B40.4672493719319%2C%20-3.68948513362475%5D%2C%20%5B40.346031443683%2C%20-3.71115726866163%5D%2C%20%5B40.4442011540936%2C%20-3.70264762160628%5D%2C%20%5B40.4322224680667%2C%20-3.69768012591096%5D%2C%20%5B40.3904283337441%2C%20-3.70185237186912%5D%2C%20%5B40.4882412731842%2C%20-3.69360958103587%5D%2C%20%5B40.4068145321083%2C%20-3.68940047848333%5D%2C%20%5B40.3904449048924%2C%20-3.701871248416%5D%2C%20%5B40.4555021527304%2C%20-3.58797074992445%5D%2C%20%5B40.3946676987445%2C%20-3.76814201635213%5D%2C%20%5B40.433085%2C%20-3.700819%5D%2C%20%5B40.3794238770338%2C%20-3.73247114713608%5D%2C%20%5B40.433086%2C%20-3.700785%5D%2C%20%5B40.478998%2C%20-3.703914%5D%2C%20%5B40.3463083537883%2C%20-3.70973332825626%5D%2C%20%5B40.4890119240213%2C%20-3.72016989840325%5D%2C%20%5B40.4776122875244%2C%20-3.71192984904922%5D%2C%20%5B40.3462184965975%2C%20-3.71019813680891%5D%2C%20%5B40.4079946481047%2C%20-3.70284978596189%5D%2C%20%5B40.4465498395387%2C%20-3.69151444109016%5D%2C%20%5B40.3463671711505%2C%20-3.70613698948725%5D%2C%20%5B40.3871240833863%2C%20-3.70681182249357%5D%2C%20%5B40.3463517162405%2C%20-3.70613059714624%5D%2C%20%5B40.4517881382847%2C%20-3.69135994574567%5D%2C%20%5B40.3932740632457%2C%20-3.72369223544967%5D%2C%20%5B40.385574676882%2C%20-3.76493376493548%5D%2C%20%5B40.3528718801689%2C%20-3.68349495030286%5D%2C%20%5B40.4642873920556%2C%20-3.69719689055796%5D%2C%20%5B40.397314%2C%20-3.71647739227583%5D%2C%20%5B40.4456850021882%2C%20-3.78672679276176%5D%2C%20%5B40.4752424439742%2C%20-3.68730742833258%5D%2C%20%5B40.4492977834164%2C%20-3.69515573340087%5D%2C%20%5B40.3874203097546%2C%20-3.69923333377633%5D%2C%20%5B40.3915976696564%2C%20-3.69493446531464%5D%2C%20%5B40.4000564596525%2C%20-3.63366612839043%5D%2C%20%5B40.4338438534786%2C%20-3.70422595477076%5D%2C%20%5B40.4006227080172%2C%20-3.63538004803538%5D%2C%20%5B40.4464221782527%2C%20-3.69233369489969%5D%2C%20%5B40.4483414616689%2C%20-3.78516297878445%5D%2C%20%5B40.4749289826743%2C%20-3.71124290594046%5D%2C%20%5B40.4820766137546%2C%20-3.70581329624216%5D%2C%20%5B40.4292745485531%2C%20-3.70191596228809%5D%2C%20%5B40.3317777442977%2C%20-3.69915004127758%5D%2C%20%5B40.3859591769168%2C%20-3.70511033544107%5D%2C%20%5B40.4672326502034%2C%20-3.68949120494836%5D%2C%20%5B40.4572799103738%2C%20-3.71176054164643%5D%2C%20%5B40.4350113794462%2C%20-3.71925642773307%5D%2C%20%5B40.4860012754583%2C%20-3.69331023725653%5D%2C%20%5B40.3855947033499%2C%20-3.70741482108941%5D%2C%20%5B40.4921892573066%2C%20-3.7234952197537%5D%2C%20%5B40.4470747348127%2C%20-3.69311190891422%5D%2C%20%5B40.4779360645124%2C%20-3.70401722648834%5D%2C%20%5B40.3465575810723%2C%20-3.70932315058264%5D%2C%20%5B40.4468720808904%2C%20-3.70455177179707%5D%2C%20%5B40.4487489869679%2C%20-3.78517396103422%5D%2C%20%5B40.4322994883608%2C%20-3.69769904762506%5D%2C%20%5B40.4658825324543%2C%20-3.69026389472871%5D%2C%20%5B40.409729114994%2C%20-3.70337845411988%5D%2C%20%5B40.3855933875761%2C%20-3.70743506918362%5D%2C%20%5B40.478698170687%2C%20-3.70831803563729%5D%2C%20%5B40.4218286539296%2C%20-3.72097559555031%5D%2C%20%5B40.4480116158331%2C%20-3.72760406914115%5D%2C%20%5B40.4179248113233%2C%20-3.70996626244218%5D%2C%20%5B40.4311952375822%2C%20-3.70341868465573%5D%2C%20%5B40.445455002038%2C%20-3.6778589222932%5D%2C%20%5B40.4820919910625%2C%20-3.70583218723425%5D%2C%20%5B40.4098079620147%2C%20-3.7037394403217%5D%2C%20%5B40.4464126362435%2C%20-3.70386681189128%5D%2C%20%5B40.4465943364548%2C%20-3.69542116066406%5D%2C%20%5B40.457482333857%2C%20-3.71217770646738%5D%2C%20%5B40.4465801012416%2C%20-3.69541009439178%5D%2C%20%5B40.4890237058616%2C%20-3.72019187836551%5D%2C%20%5B40.4135274157508%2C%20-3.72706081173175%5D%2C%20%5B40.3776615885428%2C%20-3.76802791499191%5D%2C%20%5B40.4465406232475%2C%20-3.70359514560762%5D%2C%20%5B40.3849602090811%2C%20-3.76051914224112%5D%2C%20%5B40.4366177363986%2C%20-3.70415964257987%5D%2C%20%5B40.385149565116%2C%20-3.76334465171209%5D%2C%20%5B40.44834%2C%20-3.694489%5D%2C%20%5B40.4492965916002%2C%20-3.69515572112029%5D%2C%20%5B40.4311667021766%2C%20-3.7034074702675%5D%2C%20%5B40.3906176173078%2C%20-3.69519404880652%5D%2C%20%5B40.4355038192461%2C%20-3.7185968291596%5D%2C%20%5B40.4194343539764%2C%20-3.69832938026806%5D%2C%20%5B40.4079050812189%2C%20-3.70425049808944%5D%2C%20%5B40.456779%2C%20-3.618239%5D%2C%20%5B40.3871325214308%2C%20-3.7067963245738%5D%2C%20%5B40.4554830127712%2C%20-3.58798462473729%5D%2C%20%5B40.4644690845747%2C%20-3.69789783759633%5D%2C%20%5B40.3732326932882%2C%20-3.77357975893457%5D%2C%20%5B40.4500572278672%2C%20-3.72734219586271%5D%2C%20%5B40.451764452139%2C%20-3.69133474058482%5D%2C%20%5B40.4642202477725%2C%20-3.61608999457821%5D%2C%20%5B40.4632769341995%2C%20-3.65748318436235%5D%2C%20%5B40.3961350844044%2C%20-3.63289453711837%5D%2C%20%5B40.4163545592793%2C%20-3.705905411041%5D%2C%20%5B40.474301447286%2C%20-3.68661582836028%5D%2C%20%5B40.4168943510938%2C%20-3.71154618000155%5D%2C%20%5B40.4014074242382%2C%20-3.69931546464411%5D%2C%20%5B40.4691114006121%2C%20-3.6415502054428%5D%2C%20%5B40.3985178005832%2C%20-3.69443527765075%5D%2C%20%5B40.3890912233318%2C%20-3.7386289019445%5D%2C%20%5B40.4143470512609%2C%20-3.70350342702754%5D%2C%20%5B40.4185917430472%2C%20-3.7106500621045%5D%2C%20%5B40.3967788310502%2C%20-3.71744444679557%5D%2C%20%5B40.451291%2C%20-3.695223%5D%2C%20%5B40.4174913104175%2C%20-3.7043829056651%5D%2C%20%5B40.3847786214776%2C%20-3.71799840093224%5D%2C%20%5B40.4382656978883%2C%20-3.65357052059623%5D%2C%20%5B40.4164605389433%2C%20-3.70513933729958%5D%2C%20%5B40.3536772580684%2C%20-3.68453631657609%5D%2C%20%5B40.4779443691408%2C%20-3.70402355655713%5D%2C%20%5B40.4234976878125%2C%20-3.62727281257764%5D%2C%20%5B40.478999384789%2C%20-3.70534873649059%5D%2C%20%5B40.3714121107673%2C%20-3.66157644294474%5D%2C%20%5B40.437200349326%2C%20-3.64853065233803%5D%2C%20%5B40.4740155059976%2C%20-3.57770903772933%5D%2C%20%5B40.4350783460983%2C%20-3.65286507286996%5D%2C%20%5B40.4551376003661%2C%20-3.58723895223785%5D%2C%20%5B40.4720296552404%2C%20-3.63704665272068%5D%2C%20%5B40.483440239632%2C%20-3.71467025669762%5D%2C%20%5B40.4795623828522%2C%20-3.70468661809366%5D%2C%20%5B40.4452196998195%2C%20-3.7876745107814%5D%2C%20%5B40.4002973604806%2C%20-3.70811430374392%5D%2C%20%5B40.4909987615591%2C%20-3.72746307411849%5D%2C%20%5B40.4691001424422%2C%20-3.64057164475643%5D%2C%20%5B40.4743169584917%2C%20-3.68661286605251%5D%2C%20%5B40.4846442321576%2C%20-3.66318431767719%5D%2C%20%5B40.4691112273781%2C%20-3.64158141517792%5D%2C%20%5B40.4720534994525%2C%20-3.6370453173593%5D%2C%20%5B40.4531731327314%2C%20-3.59441889865545%5D%2C%20%5B40.5053194176158%2C%20-3.69579203180187%5D%2C%20%5B40.4496875997185%2C%20-3.65117317329059%5D%2C%20%5B40.4760714285701%2C%20-3.71614928680082%5D%2C%20%5B40.4855100842615%2C%20-3.6632880555148%5D%2C%20%5B40.4491070797136%2C%20-3.60814788604924%5D%2C%20%5B40.3463144849913%2C%20-3.70970535464949%5D%2C%20%5B40.4099436200027%2C%20-3.70338224667952%5D%2C%20%5B40.4813692431574%2C%20-3.70467429675095%5D%2C%20%5B40.3952602393081%2C%20-3.67461852241145%5D%2C%20%5B40.4969754169136%2C%20-3.65918250021269%5D%2C%20%5B40.4441749919478%2C%20-3.70263798888435%5D%2C%20%5B40.4464232579512%2C%20-3.69235242718621%5D%2C%20%5B40.4494742877195%2C%20-3.69164824847187%5D%2C%20%5B40.464088415977%2C%20-3.69580294399421%5D%2C%20%5B40.3966845558416%2C%20-3.6751152041408%5D%2C%20%5B40.3835008416563%2C%20-3.76851838008406%5D%2C%20%5B40.4330196674004%2C%20-3.70159814674152%5D%2C%20%5B40.3464037787166%2C%20-3.7091377304562%5D%2C%20%5B40.4089692501244%2C%20-3.70133090132422%5D%2C%20%5B40.333152%2C%20-3.699344%5D%2C%20%5B40.447768456331%2C%20-3.69479676795078%5D%2C%20%5B40.3466866384855%2C%20-3.70887899913176%5D%2C%20%5B40.421155%2C%20-3.720491%5D%2C%20%5B40.3938433530267%2C%20-3.69514560543859%5D%2C%20%5B40.4539080323541%2C%20-3.69082000875658%5D%2C%20%5B40.4091764150238%2C%20-3.70097288991027%5D%2C%20%5B40.3453018699836%2C%20-3.7127337587742%5D%2C%20%5B40.3849495861678%2C%20-3.76050343716552%5D%2C%20%5B40.3962977975102%2C%20-3.68953388103911%5D%2C%20%5B40.464268662758%2C%20-3.69714052196201%5D%2C%20%5B40.457244186853%2C%20-3.71156201200495%5D%2C%20%5B40.401667874722%2C%20-3.69372791391682%5D%2C%20%5B40.429892219972%2C%20-3.70598537624559%5D%2C%20%5B40.3809531566211%2C%20-3.7313157249693%5D%2C%20%5B40.4736043859071%2C%20-3.68679132263397%5D%2C%20%5B40.3985120670334%2C%20-3.69439780406434%5D%2C%20%5B40.4572370071767%2C%20-3.7115666173066%5D%2C%20%5B40.3915809943305%2C%20-3.6949327350625%5D%2C%20%5B40.4076727991648%2C%20-3.70403447880175%5D%2C%20%5B40.4468732061547%2C%20-3.70456270314106%5D%2C%20%5B40.3917530357626%2C%20-3.65404153832652%5D%2C%20%5B40.4442053135037%2C%20-3.67489256680688%5D%2C%20%5B40.4081129264859%2C%20-3.70339047178032%5D%2C%20%5B40.3835082618016%2C%20-3.76847794203488%5D%2C%20%5B40.446618526971%2C%20-3.67770447051871%5D%2C%20%5B40.4651853511123%2C%20-3.71683373733986%5D%2C%20%5B40.4714740485633%2C%20-3.71122205769512%5D%2C%20%5B40.3490474654065%2C%20-3.70606368884592%5D%2C%20%5B40.4780905340364%2C%20-3.70964763952895%5D%2C%20%5B40.4776254733986%2C%20-3.71191750176272%5D%2C%20%5B40.47162766378%2C%20-3.70949766813395%5D%2C%20%5B40.37419669%2C%20-3.77316302106572%5D%2C%20%5B40.4466151069685%2C%20-3.67767791672608%5D%2C%20%5B40.4717508548691%2C%20-3.70806634242768%5D%2C%20%5B40.475249743326%2C%20-3.68728253283654%5D%2C%20%5B40.4587746394031%2C%20-3.71594541094447%5D%2C%20%5B40.4604907515905%2C%20-3.67633208968557%5D%2C%20%5B40.4791621967343%2C%20-3.70610819030494%5D%2C%20%5B40.3732456772266%2C%20-3.77359860712065%5D%2C%20%5B40.3891394414943%2C%20-3.73097418101101%5D%2C%20%5B40.4487323027799%2C%20-3.78517376685802%5D%2C%20%5B40.416320937789%2C%20-3.70692172994683%5D%2C%20%5B40.4190153095776%2C%20-3.70502566689236%5D%2C%20%5B40.3851015354012%2C%20-3.64205085072207%5D%2C%20%5B40.4473728234296%2C%20-3.70413111351162%5D%2C%20%5B40.3966667520595%2C%20-3.67510255704845%5D%2C%20%5B40.4174687522307%2C%20-3.70436863552552%5D%2C%20%5B40.4583640844298%2C%20-3.69044794951735%5D%2C%20%5B40.4081044518515%2C%20-3.70341221020074%5D%2C%20%5B40.4134884751601%2C%20-3.7285136069318%5D%2C%20%5B40.4330231198071%2C%20-3.70161845872004%5D%2C%20%5B40.4192448323417%2C%20-3.70510759128784%5D%2C%20%5B40.3741798599463%2C%20-3.77318464551502%5D%2C%20%5B40.4477694512481%2C%20-3.69482953860232%5D%2C%20%5B40.3784836196488%2C%20-3.77990592473903%5D%2C%20%5B40.3992876513136%2C%20-3.68458014052154%5D%2C%20%5B40.3962879724785%2C%20-3.67891561302425%5D%2C%20%5B40.3813017220725%2C%20-3.78059580459516%5D%2C%20%5B40.3775773414234%2C%20-3.7685100660473%5D%2C%20%5B40.4088348748566%2C%20-3.70108472234964%5D%2C%20%5B40.4048397036486%2C%20-3.74559853490879%5D%2C%20%5B40.4078860889249%2C%20-3.70423782762265%5D%2C%20%5B40.393068%2C%20-3.688753%5D%2C%20%5B40.4464364716341%2C%20-3.70386706054609%5D%2C%20%5B40.479138%2C%20-3.704469%5D%2C%20%5B40.451321%2C%20-3.695223%5D%2C%20%5B40.4474091944352%2C%20-3.70876159757053%5D%2C%20%5B40.3954632610179%2C%20-3.67760570767326%5D%2C%20%5B40.3946534807897%2C%20-3.76812938357315%5D%2C%20%5B40.4804841673047%2C%20-3.70291071048168%5D%2C%20%5B40.3776689463946%2C%20-3.76799683071737%5D%2C%20%5B40.4346695711998%2C%20-3.71940875877832%5D%2C%20%5B40.421132%2C%20-3.720512%5D%2C%20%5B40.4205385650799%2C%20-3.72010570830529%5D%2C%20%5B40.3945411689511%2C%20-3.76835101675369%5D%2C%20%5B40.4218359215093%2C%20-3.72095695995103%5D%2C%20%5B40.3998015773848%2C%20-3.62135993727526%5D%2C%20%5B40.4089287330955%2C%20-3.6031840858282%5D%2C%20%5B40.387616198265%2C%20-3.63998146176256%5D%2C%20%5B40.4144161496946%2C%20-3.72411635141935%5D%2C%20%5B40.4478866098932%2C%20-3.70903806083506%5D%2C%20%5B40.3961505177323%2C%20-3.63290559304731%5D%2C%20%5B40.3973007356077%2C%20-3.71650219393031%5D%2C%20%5B40.3887684135078%2C%20-3.73122111569355%5D%2C%20%5B40.3925559700667%2C%20-3.69724504495237%5D%2C%20%5B40.476978291076%2C%20-3.70355305401807%5D%2C%20%5B40.4094828578692%2C%20-3.69187159710747%5D%2C%20%5B40.4427656923047%2C%20-3.68600711153257%5D%2C%20%5B40.4719386341957%2C%20-3.63582852564343%5D%2C%20%5B40.4061987281804%2C%20-3.67058271312561%5D%2C%20%5B40.3653121516218%2C%20-3.73783432459163%5D%2C%20%5B40.3883523169613%2C%20-3.731056072851%5D%2C%20%5B40.407549416198%2C%20-3.68922782007607%5D%2C%20%5B40.4030638379128%2C%20-3.69343158694691%5D%2C%20%5B40.4367443286883%2C%20-3.69775389541734%5D%2C%20%5B40.478995%2C%20-3.70393%5D%2C%20%5B40.3976661989804%2C%20-3.68278223004728%5D%2C%20%5B40.3784941978818%2C%20-3.77992786492768%5D%2C%20%5B40.4030460733701%2C%20-3.69528291248507%5D%2C%20%5B40.451036698344%2C%20-3.69424313181883%5D%2C%20%5B40.4536316801264%2C%20-3.70285313564194%5D%2C%20%5B40.3719555375283%2C%20-3.75181127798819%5D%2C%20%5B40.4378838113525%2C%20-3.69138918107327%5D%2C%20%5B40.4595823651674%2C%20-3.69438616179559%5D%2C%20%5B40.4568966173281%2C%20-3.64409579135717%5D%2C%20%5B40.3871059193156%2C%20-3.73895790586518%5D%2C%20%5B40.46754%2C%20-3.679431%5D%2C%20%5B40.4591237109705%2C%20-3.66876465902313%5D%2C%20%5B40.4386467521916%2C%20-3.65426053428738%5D%2C%20%5B40.4578268498984%2C%20-3.71139028854059%5D%2C%20%5B40.4504711909619%2C%20-3.69504613659648%5D%2C%20%5B40.4791670879136%2C%20-3.70608795158177%5D%2C%20%5B40.3932585412213%2C%20-3.7236967447086%5D%2C%20%5B40.4787066750297%2C%20-3.70829159180102%5D%2C%20%5B40.4137974210148%2C%20-3.69286764863185%5D%2C%20%5B40.4585477807596%2C%20-3.7158197409092%5D%2C%20%5B40.4025285493268%2C%20-3.71128918367621%5D%2C%20%5B40.4029644649893%2C%20-3.69735554389464%5D%2C%20%5B40.4483465875956%2C%20-3.70553476367349%5D%2C%20%5B40.3962729289316%2C%20-3.689507126497%5D%2C%20%5B40.4882409453024%2C%20-3.6936642115222%5D%2C%20%5B40.4009277493779%2C%20-3.6995973283193%5D%2C%20%5B40.4801947967517%2C%20-3.71837820374322%5D%2C%20%5B40.3825255440474%2C%20-3.73012642911044%5D%2C%20%5B40.4504854909449%2C%20-3.6950462851071%5D%2C%20%5B40.4553438161105%2C%20-3.70273991904942%5D%2C%20%5B40.46495867646%2C%20-3.68899906807506%5D%2C%20%5B40.4179778805303%2C%20-3.6690745996442%5D%2C%20%5B40.4181881887912%2C%20-3.70404711519919%5D%2C%20%5B40.40841627%2C%20-3.703441155%5D%2C%20%5B40.4653525975418%2C%20-3.69288235540422%5D%2C%20%5B40.3825411155407%2C%20-3.73011412824549%5D%2C%20%5B40.3861814556916%2C%20-3.7278083994833%5D%2C%20%5B40.3996128170757%2C%20-3.69063471143576%5D%2C%20%5B40.3876578073629%2C%20-3.72691248418773%5D%2C%20%5B40.4196669201532%2C%20-3.68808492112814%5D%2C%20%5B40.4005046905741%2C%20-3.68823328339152%5D%2C%20%5B40.3996021837325%2C%20-3.69061901375919%5D%2C%20%5B40.4005681533161%2C%20-3.69347342982851%5D%2C%20%5B40.4757681914078%2C%20-3.58255283427079%5D%2C%20%5B40.3514450648355%2C%20-3.69234295252361%5D%2C%20%5B40.3528052646212%2C%20-3.68367498711786%5D%2C%20%5B40.4491177473913%2C%20-3.70352685806413%5D%2C%20%5B40.4042488332061%2C%20-3.60811083420481%5D%2C%20%5B40.4452384579143%2C%20-3.7875452523854%5D%2C%20%5B40.4067421063048%2C%20-3.66957075132904%5D%2C%20%5B40.4806644500956%2C%20-3.73128787349966%5D%2C%20%5B40.4806982235513%2C%20-3.70298786138827%5D%2C%20%5B40.3882418783587%2C%20-3.73080393445442%5D%2C%20%5B40.4067421785335%2C%20-3.66955827856408%5D%2C%20%5B40.4557098689367%2C%20-3.61913894158135%5D%2C%20%5B40.4347707009229%2C%20-3.71972602579689%5D%2C%20%5B40.3883715034115%2C%20-3.73103757639442%5D%2C%20%5B40.4030707925285%2C%20-3.69346439821602%5D%2C%20%5B40.3917662972497%2C%20-3.72695325649676%5D%2C%20%5B40.40455462%2C%20-3.70252713879576%5D%2C%20%5B40.4138011086083%2C%20-3.69284897547328%5D%2C%20%5B40.4452674966873%2C%20-3.78678120372757%5D%2C%20%5B40.4779942377704%2C%20-3.71203064934272%5D%2C%20%5B40.3938399228223%2C%20-3.72316206906981%5D%2C%20%5B40.400040906813%2C%20-3.63367689579005%5D%2C%20%5B40.4057450512778%2C%20-3.69961159181491%5D%2C%20%5B40.4371931195977%2C%20-3.64854462069518%5D%2C%20%5B40.4350488832094%2C%20-3.69904967268559%5D%2C%20%5B40.4030392411208%2C%20-3.69522983638095%5D%2C%20%5B40.3462123948646%2C%20-3.71022143845343%5D%2C%20%5B40.4438381918063%2C%20-3.71403455951032%5D%2C%20%5B40.3654935710801%2C%20-3.73835360469915%5D%2C%20%5B40.4557230617617%2C%20-3.61912346066793%5D%2C%20%5B40.478880376173%2C%20-3.70746543605703%5D%2C%20%5B40.3421592425388%2C%20-3.71398198026071%5D%2C%20%5B40.3925480856812%2C%20-3.65549732152886%5D%2C%20%5B40.3847856360413%2C%20-3.71802029570206%5D%2C%20%5B40.3528540034839%2C%20-3.68349476980858%5D%2C%20%5B40.4117358636703%2C%20-3.71941523405554%5D%2C%20%5B40.4084985651001%2C%20-3.70347478140726%5D%2C%20%5B40.4621842154023%2C%20-3.61616657529453%5D%2C%20%5B40.4059986290895%2C%20-3.69867253866805%5D%2C%20%5B40.4474072084194%2C%20-3.59562266145599%5D%2C%20%5B40.4761172822123%2C%20-3.71586572737679%5D%2C%20%5B40.3907356093696%2C%20-3.72824058531542%5D%2C%20%5B40.4045580209714%2C%20-3.70255523741128%5D%2C%20%5B40.388717132406%2C%20-3.74009775880716%5D%2C%20%5B40.3992332064184%2C%20-3.62929906191312%5D%2C%20%5B40.333129%2C%20-3.699344%5D%2C%20%5B40.3887120520935%2C%20-3.66347879782422%5D%2C%20%5B40.3962699494718%2C%20-3.67894037390259%5D%2C%20%5B40.3630090682074%2C%20-3.74014477162996%5D%2C%20%5B40.458245284144%2C%20-3.68978517472609%5D%2C%20%5B40.4491179129352%2C%20-3.60812770270924%5D%2C%20%5B40.3728865107273%2C%20-3.76504832170859%5D%2C%20%5B40.4042332745162%2C%20-3.60812316604988%5D%2C%20%5B40.4461184453847%2C%20-3.67802860739955%5D%2C%20%5B40.393093%2C%20-3.688764%5D%2C%20%5B40.3627165789295%2C%20-3.73947627676119%5D%2C%20%5B40.4401716648658%2C%20-3.69011749384851%5D%2C%20%5B40.4232113125113%2C%20-3.67109855279721%5D%2C%20%5B40.4011559612593%2C%20-3.70441063949681%5D%2C%20%5B40.3969416944275%2C%20-3.71751164818484%5D%2C%20%5B40.3952781067998%2C%20-3.67462025965834%5D%2C%20%5B40.4103475823128%2C%20-3.72053240851532%5D%2C%20%5B40.409513750231%2C%20-3.69188750477483%5D%2C%20%5B40.3925370896929%2C%20-3.6972136754532%5D%2C%20%5B40.3536821268402%2C%20-3.68451922941323%5D%2C%20%5B40.386562488026%2C%20-3.73969698683355%5D%2C%20%5B40.4677252147747%2C%20-3.68862361444895%5D%2C%20%5B40.4470256352577%2C%20-3.69056233294716%5D%2C%20%5B40.3944442765981%2C%20-3.69136839241268%5D%2C%20%5B40.3639619502812%2C%20-3.73930447255507%5D%2C%20%5B40.4499250086474%2C%20-3.72927392492949%5D%2C%20%5B40.4063396051991%2C%20-3.69746933666316%5D%2C%20%5B40.3850731586323%2C%20-3.71816518072047%5D%2C%20%5B40.4237145069818%2C%20-3.67338360791015%5D%2C%20%5B40.478801%2C%20-3.707889%5D%2C%20%5B40.394789924669%2C%20-3.72142636456955%5D%2C%20%5B40.4778521328054%2C%20-3.71226950002252%5D%2C%20%5B40.3816724157548%2C%20-3.66885597389319%5D%2C%20%5B40.3944921492817%2C%20-3.72158841923293%5D%2C%20%5B40.3844636737862%2C%20-3.64347593482184%5D%2C%20%5B40.4048535962903%2C%20-3.6091468076437%5D%2C%20%5B40.4794830619185%2C%20-3.70479504214799%5D%2C%20%5B40.4813764501974%2C%20-3.70466500666168%5D%2C%20%5B40.3460648086047%2C%20-3.71193334871524%5D%2C%20%5B40.4426551710559%2C%20-3.68313573689662%5D%2C%20%5B40.4009611375428%2C%20-3.6995742470026016%5D%2C%20%5B40.3883890538492%2C%20-3.73052340769748%5D%2C%20%5B40.4577112511969%2C%20-3.70148204835078%5D%2C%20%5B40.4306759115417%2C%20-3.71553073616369%5D%2C%20%5B40.3922570767818%2C%20-3.72604510470042%5D%2C%20%5B40.3317741132009%2C%20-3.69915934854345%5D%2C%20%5B40.4775287734964%2C%20-3.71368322053723%5D%2C%20%5B40.4350711246593%2C%20-3.6528774805647%5D%2C%20%5B40.4007960835805%2C%20-3.69688699287073%5D%2C%20%5B40.3850540719051%2C%20-3.71816809418735%5D%2C%20%5B40.4005611986828%2C%20-3.69344062095564%5D%2C%20%5B40.4187017725388%2C%20-3.61797928246256%5D%2C%20%5B40.3883925505399%2C%20-3.73053591436914%5D%2C%20%5B40.3998892971318%2C%20-3.70573811595702%5D%2C%20%5B40.3896621175349%2C%20-3.73563621482438%5D%2C%20%5B40.4760461954676%2C%20-3.72070603072643%5D%2C%20%5B40.3987795142116%2C%20-3.63250307067051%5D%2C%20%5B40.464893542362%2C%20-3.71507202877031%5D%2C%20%5B40.4061664782078%2C%20-3.67059486525208%5D%2C%20%5B40.4525818277249%2C%20-3.68095900076391%5D%2C%20%5B40.3875402910727%2C%20-3.72702656035559%5D%2C%20%5B40.3931767928428%2C%20-3.72438017185874%5D%2C%20%5B40.4788748176497%2C%20-3.70749737337952%5D%2C%20%5B40.4312369366177%2C%20-3.65969857556117%5D%2C%20%5B40.4519135478936%2C%20-3.67468888009994%5D%2C%20%5B40.4773374627954%2C%20-3.71455519795898%5D%2C%20%5B40.3887147822827%2C%20-3.73159773342601%5D%2C%20%5B40.3626923476917%2C%20-3.74028309236568%5D%2C%20%5B40.3809603765311%2C%20-3.7313048941129%5D%2C%20%5B40.384534174765%2C%20-3.72878192267772%5D%2C%20%5B40.457645848055%2C%20-3.71291275708252%5D%2C%20%5B40.4050596008704%2C%20-3.70179963596527%5D%2C%20%5B40.4200897063781%2C%20-3.70385719909323%5D%2C%20%5B40.3942680990242%2C%20-3.69397853440323%5D%2C%20%5B40.413758%2C%20-3.720897%5D%2C%20%5B40.3948670308571%2C%20-3.72091121949129%5D%2C%20%5B40.4455438815199%2C%20-3.78802305061991%5D%2C%20%5B40.3876519863233%2C%20-3.72689060039917%5D%2C%20%5B40.3898563180759%2C%20-3.73527203423081%5D%2C%20%5B40.4795337241761%2C%20-3.70469568361937%5D%2C%20%5B40.4064035870248%2C%20-3.69723535589711%5D%2C%20%5B40.4503193002843%2C%20-3.70359165180612%5D%2C%20%5B40.438775817554%2C%20-3.67536595265618%5D%2C%20%5B40.4007378637758%2C%20-3.69867558144878%5D%2C%20%5B40.3962489835261%2C%20-3.69082332912669%5D%2C%20%5B40.4469572021404%2C%20-3.59552508766165%5D%2C%20%5B40.3987496346996%2C%20-3.63251837988878%5D%2C%20%5B40.478004117432%2C%20-3.7119745661837%5D%2C%20%5B40.4435457315142%2C%20-3.6170143956903%5D%2C%20%5B40.4435386077195%2C%20-3.7270548558532%5D%2C%20%5B40.4008616024965%2C%20-3.63550077488472%5D%2C%20%5B40.3527849959508%2C%20-3.68367634035992%5D%2C%20%5B40.4834404326564%2C%20-3.71463904079936%5D%2C%20%5B40.386554235026%2C%20-3.73968286928342%5D%2C%20%5B40.4075399568316%2C%20-3.68921525113885%5D%2C%20%5B40.4275671692854%2C%20-3.62294238699103%5D%2C%20%5B40.4360754933235%2C%20-3.65082362232926%5D%2C%20%5B40.4510569395695%2C%20-3.69424646172014%5D%2C%20%5B40.459556109569%2C%20-3.69439213189436%5D%5D%2C%0A%20%20%20%20%20%20%20%20%20%20%20%20%20%20%20%20%7B%22blur%22%3A%2015%2C%20%22maxZoom%22%3A%2018%2C%20%22minOpacity%22%3A%200.5%2C%20%22radius%22%3A%2010%7D%0A%20%20%20%20%20%20%20%20%20%20%20%20%29.addTo%28map_5370f9ab63224bebb6b87470620bf4ac%29%3B%0A%20%20%20%20%20%20%20%20%0A%3C/script%3E onload=\"this.contentDocument.open();this.contentDocument.write(    decodeURIComponent(this.getAttribute('data-html')));this.contentDocument.close();\" allowfullscreen webkitallowfullscreen mozallowfullscreen></iframe></div></div>"
      ],
      "text/plain": [
       "<folium.folium.Map at 0x7f1da45747c0>"
      ]
     },
     "execution_count": 12,
     "metadata": {},
     "output_type": "execute_result"
    }
   ],
   "source": [
    "stationArr = pb.values\n",
    "m.add_child(plugins.HeatMap(stationArr, radius=10))\n",
    "m"
   ]
  },
  {
   "cell_type": "code",
   "execution_count": null,
   "id": "cfb2005d",
   "metadata": {},
   "outputs": [],
   "source": []
  }
 ],
 "metadata": {
  "kernelspec": {
   "display_name": "Python 3",
   "language": "python",
   "name": "python3"
  },
  "language_info": {
   "codemirror_mode": {
    "name": "ipython",
    "version": 3
   },
   "file_extension": ".py",
   "mimetype": "text/x-python",
   "name": "python",
   "nbconvert_exporter": "python",
   "pygments_lexer": "ipython3",
   "version": "3.8.8"
  }
 },
 "nbformat": 4,
 "nbformat_minor": 5
}
