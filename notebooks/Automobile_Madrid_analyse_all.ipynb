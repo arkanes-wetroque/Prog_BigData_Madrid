{
 "cells": [
  {
   "cell_type": "code",
   "execution_count": 2,
   "id": "c246d27a",
   "metadata": {},
   "outputs": [],
   "source": [
    "import pandas as pd\n",
    "import numpy as np\n",
    "import matplotlib.pyplot as plt\n",
    "\n",
    "#Helping link I dont know yet !\n",
    "#https://www.linkedin.com/pulse/creating-dashboard-matplotlib-library-leonardo-a/\n",
    "#http://datos.munimadrid.es/portal/site/egob/menuitem.c05c1f754a33a9fbe4b2e4b284f1a5a0/?vgnextoid=39cddd906cbee510VgnVCM1000001d4a900aRCRD&vgnextchannel=374512b9ace9f310VgnVCM100000171f5a0aRCRD&vgnextfmt=default#"
   ]
  },
  {
   "cell_type": "markdown",
   "id": "8d0b9a17",
   "metadata": {},
   "source": [
    "### Getting the datas from 5 years, it would be interesting to see how the Mayor of madrid change about the vehicules consomation."
   ]
  },
  {
   "cell_type": "code",
   "execution_count": 15,
   "id": "8824f402",
   "metadata": {},
   "outputs": [],
   "source": [
    "# Ajout du fichier \n",
    "file2017 = 'Datas/VEHICULOS_PARQUE_MOVIL_2017.csv'\n",
    "file2018 = 'Datas/VEHICULOS_PARQUE_MOVIL_2018.csv'\n",
    "file2019 = 'Datas/VEHICULOS_PARQUE_MOVIL_2019.csv'\n",
    "file2020 = 'Datas/VEHICULOS_PARQUE_MOVIL_2020.csv'\n",
    "file2021 = 'Datas/VEHICULOS_PARQUE_MOVIL_2021.csv'\n",
    "\n",
    "#Variables waiting the main function to be create on main page and called\n",
    "d17 = pd.read_csv(file2017, delimiter=';')\n",
    "d18 = pd.read_csv(file2018, delimiter=';')\n",
    "d19 = pd.read_csv(file2019, delimiter=';')\n",
    "d20 = pd.read_csv(file2020, delimiter=';')\n",
    "d21 = pd.read_csv(file2021, delimiter=';')\n",
    "                  \n",
    "\n",
    "\n",
    "\n",
    "\n",
    "#d18 = pd.read_csv(file2018, delimiter=';')\n",
    "#d17 = pd.read_csv(file, delimiter=';', usecols = ['id','direccion','longitud','latitud'])\n",
    "\n",
    "\n",
    "\n",
    "#print(d18.shape)\n",
    "#print(d17.columns)\n",
    "#print(d18.columns)\n",
    "#print(d18.info())\n"
   ]
  },
  {
   "cell_type": "code",
   "execution_count": 16,
   "id": "7dee8886",
   "metadata": {},
   "outputs": [],
   "source": [
    "d17step = d17.drop_duplicates()\n",
    "d18step = d18.drop_duplicates()\n",
    "d19step = d19.drop_duplicates()\n",
    "d20step = d20.drop_duplicates()\n",
    "d21step = d21.drop_duplicates()"
   ]
  },
  {
   "cell_type": "code",
   "execution_count": 17,
   "id": "aa8b78dc",
   "metadata": {},
   "outputs": [],
   "source": [
    "#print(d17step['ENERG�A/COMBUSTIBLE'].tolist())"
   ]
  },
  {
   "cell_type": "markdown",
   "id": "f6e3c922",
   "metadata": {},
   "source": [
    "## Got a bit trouble overhere ! according to the both PDF which explain the data structure, there are differences so I need to fix it !"
   ]
  },
  {
   "cell_type": "code",
   "execution_count": 18,
   "id": "7be99d9a",
   "metadata": {},
   "outputs": [],
   "source": [
    "#convertir les données 2017-18-19 pour mettre a jour noms\n",
    "def updatedataBefore2020(datas):\n",
    "    dataTab = datas.rename(columns={'ENERG�A/COMBUSTIBLE': 'ENERGÍA/COMBUSTIBLE', 'N� MPAL': 'Nº MPAL'})\n",
    "    return dataTab\n",
    "\n",
    "def updateValuesBefore2020(datas):\n",
    "\n",
    "    dataValues = datas['ENERGÍA/COMBUSTIBLE'].replace(['EL�CTRICO','GASOLINA / HIBRIDO','EL�CTRICO / H�BRIDO'],['ELÉCTRICO','GASOLINA/HIBRIDO','ELÉCTRICO / HÍBRIDO'])\n",
    "    \n",
    "    return dataValues\n",
    "\n",
    "\n",
    "def updateValuesStart2020(datas):\n",
    "\n",
    "    dataValues = datas['ENERGÍA/COMBUSTIBLE'].replace(['DIESEL'],['DIESEL'])\n",
    "    \n",
    "    return dataValues"
   ]
  },
  {
   "cell_type": "code",
   "execution_count": 19,
   "id": "1ec66167",
   "metadata": {},
   "outputs": [
    {
     "name": "stdout",
     "output_type": "stream",
     "text": [
      "             unique_values     6\n",
      "0                 GASOLINA  1043\n",
      "1                DIESEL      679\n",
      "2                ELÉCTRICO   368\n",
      "3   GAS NATURAL COMPRIMIDO   160\n",
      "4       ELÉCTRICO/GASOLINA    40\n",
      "5  GAS LICUADO DE PETROLEO    21\n",
      "6               No precisa     8\n",
      "7         DIESEL               1\n"
     ]
    }
   ],
   "source": [
    "\n",
    "#todo - Check good practice to clean the code \n",
    "\n",
    "d17Tab = updatedataBefore2020(d17step)\n",
    "d17Clean = updateValuesBefore2020(d17Tab).value_counts().rename_axis('unique_values').reset_index(name='1')\n",
    "\n",
    "\n",
    "d18Tab = updatedataBefore2020(d18step)\n",
    "d18Clean = updateValuesBefore2020(d18Tab).value_counts().rename_axis('unique_values').reset_index(name='2')\n",
    "\n",
    "\n",
    "d19Tab = updatedataBefore2020(d19step)\n",
    "d19Clean = updateValuesBefore2020(d19Tab).value_counts().rename_axis('unique_values').reset_index(name='3')\n",
    "\n",
    "\n",
    "d20Clean = updateValuesBefore2020(d20step).value_counts().rename_axis('unique_values').reset_index(name='4')\n",
    "d21Clean = updateValuesBefore2020(d21step).value_counts().rename_axis('unique_values').reset_index(name='5')\n",
    "d21Clean2 = updateValuesBefore2020(d21step).value_counts().rename_axis('unique_values').reset_index(name='6')\n",
    "\n",
    "print(d21Clean2)\n",
    "\n",
    "\n",
    "\n",
    "\n",
    "\n",
    "\n",
    "\n"
   ]
  },
  {
   "cell_type": "markdown",
   "id": "a172b4bd",
   "metadata": {},
   "source": [
    "### fusion consomation energy (Got probleme with \"DIESEL\" probably an \\x16 or something black which is diff)"
   ]
  },
  {
   "cell_type": "code",
   "execution_count": 20,
   "id": "b6587cd8",
   "metadata": {},
   "outputs": [
    {
     "name": "stdout",
     "output_type": "stream",
     "text": [
      "      unique_values       1     unique_values       2        unique_values  \\\n",
      "0          GASOLINA  1099.0          GASOLINA  1050.0             GASOLINA   \n",
      "1            DIESEL   867.0            DIESEL   725.0               DIESEL   \n",
      "2  GASOLINA/HIBRIDO    85.0         ELÉCTRICO   133.0            ELÉCTRICO   \n",
      "3    GASOLINA / GLP    84.0               GNC   113.0     GASOLINA/HIBRIDO   \n",
      "4         ELÉCTRICO    47.0  GASOLINA/HIBRIDO    22.0                  GNC   \n",
      "5                R.     7.0                R.     7.0  ELÉCTRICO / HÍBRIDO   \n",
      "6               NaN     NaN    GASOLINA / GLP     1.0       GASOLINA / GLP   \n",
      "7               NaN     NaN      GASOLINA/GNC     1.0                   R.   \n",
      "8               NaN     NaN               NaN     NaN                  NaN   \n",
      "\n",
      "       3        unique_values    4            unique_values       5  \n",
      "0  793.0             GASOLINA  770                 GASOLINA  1043.0  \n",
      "1  693.0              DIESEL   562                DIESEL      679.0  \n",
      "2  305.0            ELÉCTRICO  351                ELÉCTRICO   368.0  \n",
      "3  300.0     GASOLINA/HIBRIDO  305   GAS NATURAL COMPRIMIDO   160.0  \n",
      "4  124.0                  GNC  124       ELÉCTRICO/GASOLINA    40.0  \n",
      "5   29.0               DIESEL  112  GAS LICUADO DE PETROLEO    21.0  \n",
      "6   21.0  ELÉCTRICO / HÍBRIDO   29               No precisa     8.0  \n",
      "7    8.0       GASOLINA / GLP   21         DIESEL               1.0  \n",
      "8    NaN                   R.    8                      NaN     NaN  \n"
     ]
    }
   ],
   "source": [
    "\n",
    "Test = pd.concat([d17Clean,d18Clean, d19Clean, d20Clean, d21Clean], axis=1)\n",
    "print(Test)"
   ]
  },
  {
   "cell_type": "code",
   "execution_count": 21,
   "id": "fde12481",
   "metadata": {},
   "outputs": [],
   "source": [
    "#TypeConso17 = d17Clean.groupby('ENERGÍA/COMBUSTIBLE')['Nº MPAL'].nunique()\n",
    "#TypeConso18 = d18Clean.groupby('ENERGÍA/COMBUSTIBLE')['Nº MPAL'].nunique()\n",
    "#TypeConso19 = d19Clean.groupby('ENERGÍA/COMBUSTIBLE')['Nº MPAL'].nunique()\n",
    "#TypeConso20 = d20Clean.groupby('ENERGÍA/COMBUSTIBLE')['Nº MPAL'].nunique()\n",
    "#TypeConso21 = d21Clean.groupby('ENERGÍA/COMBUSTIBLE')['Nº MPAL'].nunique()\n"
   ]
  },
  {
   "cell_type": "code",
   "execution_count": 22,
   "id": "6d8b3c33",
   "metadata": {},
   "outputs": [
    {
     "name": "stdout",
     "output_type": "stream",
     "text": [
      "AxesSubplot(0.125,0.125;0.775x0.755)\n"
     ]
    },
    {
     "data": {
      "image/png": "[encoded data removed]",
      "text/plain": [
       "<Figure size 1080x720 with 1 Axes>"
      ]
     },
     "metadata": {
      "needs_background": "light"
     },
     "output_type": "display_data"
    }
   ],
   "source": [
    "#TotalConso = pd.concat([TypeConso17,TypeConso18, TypeConso19, TypeConso20, TypeConso21], axis=1)\n",
    "#print (TypeConso17)\n",
    "#print (TypeConso20)\n",
    "#\n",
    "chartTotal = Test.plot.bar(figsize=(15,10));\n",
    "\n",
    "print(chartTotal)"
   ]
  },
  {
   "cell_type": "markdown",
   "id": "f7480832",
   "metadata": {},
   "source": [
    "## To do : Fix it, this is close to an exploitable view, we can see the boom of the Electric by year\n"
   ]
  },
  {
   "cell_type": "code",
   "execution_count": 13,
   "id": "f7e88cec",
   "metadata": {},
   "outputs": [
    {
     "name": "stdout",
     "output_type": "stream",
     "text": [
      "      unique_values  counts     unique_values  counts\n",
      "0          GASOLINA  1099.0          GASOLINA    1050\n",
      "1            DIESEL   867.0            DIESEL     725\n",
      "2  GASOLINA/HIBRIDO    85.0         ELÉCTRICO     133\n",
      "3    GASOLINA / GLP    84.0               GNC     113\n",
      "4         ELÉCTRICO    47.0  GASOLINA/HIBRIDO      22\n",
      "5                R.     7.0                R.       7\n",
      "6               NaN     NaN    GASOLINA / GLP       1\n",
      "7               NaN     NaN      GASOLINA/GNC       1\n"
     ]
    }
   ],
   "source": [
    "\n",
    "\n",
    "##rename the concat\n",
    "\n",
    "Test2 = pd.concat([d17Clean,d18Clean], axis=1)\n",
    "print(Test2)\n"
   ]
  },
  {
   "cell_type": "code",
   "execution_count": null,
   "id": "55bc7b21",
   "metadata": {},
   "outputs": [],
   "source": []
  },
  {
   "cell_type": "code",
   "execution_count": null,
   "id": "7b8b4bdd",
   "metadata": {},
   "outputs": [],
   "source": []
  }
 ],
 "metadata": {
  "kernelspec": {
   "display_name": "Python 3",
   "language": "python",
   "name": "python3"
  },
  "language_info": {
   "codemirror_mode": {
    "name": "ipython",
    "version": 3
   },
   "file_extension": ".py",
   "mimetype": "text/x-python",
   "name": "python",
   "nbconvert_exporter": "python",
   "pygments_lexer": "ipython3",
   "version": "3.8.8"
  }
 },
 "nbformat": 4,
 "nbformat_minor": 5
}
